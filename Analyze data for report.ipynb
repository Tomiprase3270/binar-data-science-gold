{
 "cells": [
  {
   "cell_type": "code",
   "execution_count": 342,
   "id": "97602de2",
   "metadata": {},
   "outputs": [],
   "source": [
    "import pandas as pd\n",
    "import matplotlib.pyplot as plt\n",
    "import seaborn as sns\n",
    "\n",
    "from nltk.corpus import stopwords\n",
    "from nltk.tokenize import word_tokenize\n",
    "import numpy as np\n",
    "from nltk.probability import FreqDist\n",
    "import nltk\n",
    "\n",
    "import re\n",
    "import string\n",
    "from num2words import num2words\n",
    "import csv\n",
    "import numpy as np\n",
    "from terbilang import Terbilang\n",
    "from Sastrawi.Stemmer.StemmerFactory import StemmerFactory\n",
    "from wordcloud import WordCloud"
   ]
  },
  {
   "cell_type": "code",
   "execution_count": 270,
   "id": "db6a2288",
   "metadata": {},
   "outputs": [],
   "source": [
    "t = Terbilang()"
   ]
  },
  {
   "cell_type": "code",
   "execution_count": 271,
   "id": "f806a325",
   "metadata": {},
   "outputs": [
    {
     "data": {
      "text/html": [
       "<div>\n",
       "<style scoped>\n",
       "    .dataframe tbody tr th:only-of-type {\n",
       "        vertical-align: middle;\n",
       "    }\n",
       "\n",
       "    .dataframe tbody tr th {\n",
       "        vertical-align: top;\n",
       "    }\n",
       "\n",
       "    .dataframe thead th {\n",
       "        text-align: right;\n",
       "    }\n",
       "</style>\n",
       "<table border=\"1\" class=\"dataframe\">\n",
       "  <thead>\n",
       "    <tr style=\"text-align: right;\">\n",
       "      <th></th>\n",
       "      <th>Tweet</th>\n",
       "      <th>HS</th>\n",
       "      <th>Abusive</th>\n",
       "      <th>HS_Individual</th>\n",
       "      <th>HS_Group</th>\n",
       "      <th>HS_Religion</th>\n",
       "      <th>HS_Race</th>\n",
       "      <th>HS_Physical</th>\n",
       "      <th>HS_Gender</th>\n",
       "      <th>HS_Other</th>\n",
       "      <th>HS_Weak</th>\n",
       "      <th>HS_Moderate</th>\n",
       "      <th>HS_Strong</th>\n",
       "    </tr>\n",
       "  </thead>\n",
       "  <tbody>\n",
       "    <tr>\n",
       "      <th>0</th>\n",
       "      <td>- disaat semua cowok berusaha melacak perhatia...</td>\n",
       "      <td>1</td>\n",
       "      <td>1</td>\n",
       "      <td>1</td>\n",
       "      <td>0</td>\n",
       "      <td>0</td>\n",
       "      <td>0</td>\n",
       "      <td>0</td>\n",
       "      <td>0</td>\n",
       "      <td>1</td>\n",
       "      <td>1</td>\n",
       "      <td>0</td>\n",
       "      <td>0</td>\n",
       "    </tr>\n",
       "    <tr>\n",
       "      <th>1</th>\n",
       "      <td>RT USER: USER siapa yang telat ngasih tau elu?...</td>\n",
       "      <td>0</td>\n",
       "      <td>1</td>\n",
       "      <td>0</td>\n",
       "      <td>0</td>\n",
       "      <td>0</td>\n",
       "      <td>0</td>\n",
       "      <td>0</td>\n",
       "      <td>0</td>\n",
       "      <td>0</td>\n",
       "      <td>0</td>\n",
       "      <td>0</td>\n",
       "      <td>0</td>\n",
       "    </tr>\n",
       "    <tr>\n",
       "      <th>2</th>\n",
       "      <td>41. Kadang aku berfikir, kenapa aku tetap perc...</td>\n",
       "      <td>0</td>\n",
       "      <td>0</td>\n",
       "      <td>0</td>\n",
       "      <td>0</td>\n",
       "      <td>0</td>\n",
       "      <td>0</td>\n",
       "      <td>0</td>\n",
       "      <td>0</td>\n",
       "      <td>0</td>\n",
       "      <td>0</td>\n",
       "      <td>0</td>\n",
       "      <td>0</td>\n",
       "    </tr>\n",
       "    <tr>\n",
       "      <th>3</th>\n",
       "      <td>USER USER AKU ITU AKU\\n\\nKU TAU MATAMU SIPIT T...</td>\n",
       "      <td>0</td>\n",
       "      <td>0</td>\n",
       "      <td>0</td>\n",
       "      <td>0</td>\n",
       "      <td>0</td>\n",
       "      <td>0</td>\n",
       "      <td>0</td>\n",
       "      <td>0</td>\n",
       "      <td>0</td>\n",
       "      <td>0</td>\n",
       "      <td>0</td>\n",
       "      <td>0</td>\n",
       "    </tr>\n",
       "    <tr>\n",
       "      <th>4</th>\n",
       "      <td>USER USER Kaum cebong kapir udah keliatan dong...</td>\n",
       "      <td>1</td>\n",
       "      <td>1</td>\n",
       "      <td>0</td>\n",
       "      <td>1</td>\n",
       "      <td>1</td>\n",
       "      <td>0</td>\n",
       "      <td>0</td>\n",
       "      <td>0</td>\n",
       "      <td>0</td>\n",
       "      <td>0</td>\n",
       "      <td>1</td>\n",
       "      <td>0</td>\n",
       "    </tr>\n",
       "  </tbody>\n",
       "</table>\n",
       "</div>"
      ],
      "text/plain": [
       "                                               Tweet  HS  Abusive  \\\n",
       "0  - disaat semua cowok berusaha melacak perhatia...   1        1   \n",
       "1  RT USER: USER siapa yang telat ngasih tau elu?...   0        1   \n",
       "2  41. Kadang aku berfikir, kenapa aku tetap perc...   0        0   \n",
       "3  USER USER AKU ITU AKU\\n\\nKU TAU MATAMU SIPIT T...   0        0   \n",
       "4  USER USER Kaum cebong kapir udah keliatan dong...   1        1   \n",
       "\n",
       "   HS_Individual  HS_Group  HS_Religion  HS_Race  HS_Physical  HS_Gender  \\\n",
       "0              1         0            0        0            0          0   \n",
       "1              0         0            0        0            0          0   \n",
       "2              0         0            0        0            0          0   \n",
       "3              0         0            0        0            0          0   \n",
       "4              0         1            1        0            0          0   \n",
       "\n",
       "   HS_Other  HS_Weak  HS_Moderate  HS_Strong  \n",
       "0         1        1            0          0  \n",
       "1         0        0            0          0  \n",
       "2         0        0            0          0  \n",
       "3         0        0            0          0  \n",
       "4         0        0            1          0  "
      ]
     },
     "execution_count": 271,
     "metadata": {},
     "output_type": "execute_result"
    }
   ],
   "source": [
    "df = pd.read_csv('asset_challenge/data.csv', encoding='latin-1')\n",
    "df.head()"
   ]
  },
  {
   "cell_type": "code",
   "execution_count": 272,
   "id": "fb1dd931",
   "metadata": {},
   "outputs": [
    {
     "data": {
      "text/html": [
       "<div>\n",
       "<style scoped>\n",
       "    .dataframe tbody tr th:only-of-type {\n",
       "        vertical-align: middle;\n",
       "    }\n",
       "\n",
       "    .dataframe tbody tr th {\n",
       "        vertical-align: top;\n",
       "    }\n",
       "\n",
       "    .dataframe thead th {\n",
       "        text-align: right;\n",
       "    }\n",
       "</style>\n",
       "<table border=\"1\" class=\"dataframe\">\n",
       "  <thead>\n",
       "    <tr style=\"text-align: right;\">\n",
       "      <th></th>\n",
       "      <th>Tweet</th>\n",
       "    </tr>\n",
       "  </thead>\n",
       "  <tbody>\n",
       "    <tr>\n",
       "      <th>0</th>\n",
       "      <td>- disaat semua cowok berusaha melacak perhatia...</td>\n",
       "    </tr>\n",
       "    <tr>\n",
       "      <th>1</th>\n",
       "      <td>RT USER: USER siapa yang telat ngasih tau elu?...</td>\n",
       "    </tr>\n",
       "    <tr>\n",
       "      <th>2</th>\n",
       "      <td>41. Kadang aku berfikir, kenapa aku tetap perc...</td>\n",
       "    </tr>\n",
       "    <tr>\n",
       "      <th>3</th>\n",
       "      <td>USER USER AKU ITU AKU\\n\\nKU TAU MATAMU SIPIT T...</td>\n",
       "    </tr>\n",
       "    <tr>\n",
       "      <th>4</th>\n",
       "      <td>USER USER Kaum cebong kapir udah keliatan dong...</td>\n",
       "    </tr>\n",
       "  </tbody>\n",
       "</table>\n",
       "</div>"
      ],
      "text/plain": [
       "                                               Tweet\n",
       "0  - disaat semua cowok berusaha melacak perhatia...\n",
       "1  RT USER: USER siapa yang telat ngasih tau elu?...\n",
       "2  41. Kadang aku berfikir, kenapa aku tetap perc...\n",
       "3  USER USER AKU ITU AKU\\n\\nKU TAU MATAMU SIPIT T...\n",
       "4  USER USER Kaum cebong kapir udah keliatan dong..."
      ]
     },
     "execution_count": 272,
     "metadata": {},
     "output_type": "execute_result"
    }
   ],
   "source": [
    "df = df[['Tweet']]\n",
    "df.head()"
   ]
  },
  {
   "cell_type": "markdown",
   "id": "236bc065",
   "metadata": {},
   "source": [
    "## drop duplicated"
   ]
  },
  {
   "cell_type": "code",
   "execution_count": 273,
   "id": "23d20ec2",
   "metadata": {},
   "outputs": [
    {
     "data": {
      "text/plain": [
       "146"
      ]
     },
     "execution_count": 273,
     "metadata": {},
     "output_type": "execute_result"
    }
   ],
   "source": [
    "df.duplicated().sum()"
   ]
  },
  {
   "cell_type": "code",
   "execution_count": 274,
   "id": "48f8cb6f",
   "metadata": {},
   "outputs": [
    {
     "data": {
      "text/plain": [
       "(13169, 1)"
      ]
     },
     "execution_count": 274,
     "metadata": {},
     "output_type": "execute_result"
    }
   ],
   "source": [
    "df.shape"
   ]
  },
  {
   "cell_type": "code",
   "execution_count": 275,
   "id": "8be5f169",
   "metadata": {},
   "outputs": [
    {
     "data": {
      "text/plain": [
       "(13023, 1)"
      ]
     },
     "execution_count": 275,
     "metadata": {},
     "output_type": "execute_result"
    }
   ],
   "source": [
    "# delete duplicate data\n",
    "df = df.drop_duplicates()\n",
    "df.shape"
   ]
  },
  {
   "cell_type": "code",
   "execution_count": 276,
   "id": "8989785f",
   "metadata": {},
   "outputs": [
    {
     "data": {
      "text/html": [
       "<div>\n",
       "<style scoped>\n",
       "    .dataframe tbody tr th:only-of-type {\n",
       "        vertical-align: middle;\n",
       "    }\n",
       "\n",
       "    .dataframe tbody tr th {\n",
       "        vertical-align: top;\n",
       "    }\n",
       "\n",
       "    .dataframe thead th {\n",
       "        text-align: right;\n",
       "    }\n",
       "</style>\n",
       "<table border=\"1\" class=\"dataframe\">\n",
       "  <thead>\n",
       "    <tr style=\"text-align: right;\">\n",
       "      <th></th>\n",
       "      <th>Tweet</th>\n",
       "    </tr>\n",
       "  </thead>\n",
       "  <tbody>\n",
       "    <tr>\n",
       "      <th>0</th>\n",
       "      <td>- disaat semua cowok berusaha melacak perhatia...</td>\n",
       "    </tr>\n",
       "    <tr>\n",
       "      <th>1</th>\n",
       "      <td>RT USER: USER siapa yang telat ngasih tau elu?...</td>\n",
       "    </tr>\n",
       "    <tr>\n",
       "      <th>2</th>\n",
       "      <td>41. Kadang aku berfikir, kenapa aku tetap perc...</td>\n",
       "    </tr>\n",
       "    <tr>\n",
       "      <th>3</th>\n",
       "      <td>USER USER AKU ITU AKU\\n\\nKU TAU MATAMU SIPIT T...</td>\n",
       "    </tr>\n",
       "    <tr>\n",
       "      <th>4</th>\n",
       "      <td>USER USER Kaum cebong kapir udah keliatan dong...</td>\n",
       "    </tr>\n",
       "  </tbody>\n",
       "</table>\n",
       "</div>"
      ],
      "text/plain": [
       "                                               Tweet\n",
       "0  - disaat semua cowok berusaha melacak perhatia...\n",
       "1  RT USER: USER siapa yang telat ngasih tau elu?...\n",
       "2  41. Kadang aku berfikir, kenapa aku tetap perc...\n",
       "3  USER USER AKU ITU AKU\\n\\nKU TAU MATAMU SIPIT T...\n",
       "4  USER USER Kaum cebong kapir udah keliatan dong..."
      ]
     },
     "execution_count": 276,
     "metadata": {},
     "output_type": "execute_result"
    }
   ],
   "source": [
    "df.head()"
   ]
  },
  {
   "cell_type": "markdown",
   "id": "e11e3955",
   "metadata": {},
   "source": [
    "### check missing value"
   ]
  },
  {
   "cell_type": "code",
   "execution_count": 277,
   "id": "11943da2",
   "metadata": {},
   "outputs": [
    {
     "data": {
      "text/plain": [
       "Tweet    0\n",
       "dtype: int64"
      ]
     },
     "execution_count": 277,
     "metadata": {},
     "output_type": "execute_result"
    }
   ],
   "source": [
    "df.isna().sum()"
   ]
  },
  {
   "cell_type": "markdown",
   "id": "8b61197f",
   "metadata": {},
   "source": [
    "dari hasil diatas diketahui bahwa tidak terdapat missing value pada data"
   ]
  },
  {
   "cell_type": "markdown",
   "id": "0d14ecb3",
   "metadata": {},
   "source": [
    "## merubah text menjadi huruf kecil"
   ]
  },
  {
   "cell_type": "code",
   "execution_count": 278,
   "id": "106a79cf",
   "metadata": {},
   "outputs": [],
   "source": [
    "# merubah kalimat menjadi huruf kecil\n",
    "\n",
    "def clean_text(text):\n",
    "  text = text.lower()\n",
    "  return text"
   ]
  },
  {
   "cell_type": "code",
   "execution_count": 279,
   "id": "5790dceb",
   "metadata": {},
   "outputs": [
    {
     "data": {
      "text/html": [
       "<div>\n",
       "<style scoped>\n",
       "    .dataframe tbody tr th:only-of-type {\n",
       "        vertical-align: middle;\n",
       "    }\n",
       "\n",
       "    .dataframe tbody tr th {\n",
       "        vertical-align: top;\n",
       "    }\n",
       "\n",
       "    .dataframe thead th {\n",
       "        text-align: right;\n",
       "    }\n",
       "</style>\n",
       "<table border=\"1\" class=\"dataframe\">\n",
       "  <thead>\n",
       "    <tr style=\"text-align: right;\">\n",
       "      <th></th>\n",
       "      <th>Tweet</th>\n",
       "      <th>text_lower</th>\n",
       "    </tr>\n",
       "  </thead>\n",
       "  <tbody>\n",
       "    <tr>\n",
       "      <th>0</th>\n",
       "      <td>- disaat semua cowok berusaha melacak perhatia...</td>\n",
       "      <td>- disaat semua cowok berusaha melacak perhatia...</td>\n",
       "    </tr>\n",
       "    <tr>\n",
       "      <th>1</th>\n",
       "      <td>RT USER: USER siapa yang telat ngasih tau elu?...</td>\n",
       "      <td>rt user: user siapa yang telat ngasih tau elu?...</td>\n",
       "    </tr>\n",
       "    <tr>\n",
       "      <th>2</th>\n",
       "      <td>41. Kadang aku berfikir, kenapa aku tetap perc...</td>\n",
       "      <td>41. kadang aku berfikir, kenapa aku tetap perc...</td>\n",
       "    </tr>\n",
       "    <tr>\n",
       "      <th>3</th>\n",
       "      <td>USER USER AKU ITU AKU\\n\\nKU TAU MATAMU SIPIT T...</td>\n",
       "      <td>user user aku itu aku\\n\\nku tau matamu sipit t...</td>\n",
       "    </tr>\n",
       "    <tr>\n",
       "      <th>4</th>\n",
       "      <td>USER USER Kaum cebong kapir udah keliatan dong...</td>\n",
       "      <td>user user kaum cebong kapir udah keliatan dong...</td>\n",
       "    </tr>\n",
       "    <tr>\n",
       "      <th>...</th>\n",
       "      <td>...</td>\n",
       "      <td>...</td>\n",
       "    </tr>\n",
       "    <tr>\n",
       "      <th>13164</th>\n",
       "      <td>USER jangan asal ngomong ndasmu. congor lu yg ...</td>\n",
       "      <td>user jangan asal ngomong ndasmu. congor lu yg ...</td>\n",
       "    </tr>\n",
       "    <tr>\n",
       "      <th>13165</th>\n",
       "      <td>USER Kasur mana enak kunyuk'</td>\n",
       "      <td>user kasur mana enak kunyuk'</td>\n",
       "    </tr>\n",
       "    <tr>\n",
       "      <th>13166</th>\n",
       "      <td>USER Hati hati bisu :( .g\\n\\nlagi bosan huft \\...</td>\n",
       "      <td>user hati hati bisu :( .g\\n\\nlagi bosan huft \\...</td>\n",
       "    </tr>\n",
       "    <tr>\n",
       "      <th>13167</th>\n",
       "      <td>USER USER USER USER Bom yang real mudah terdet...</td>\n",
       "      <td>user user user user bom yang real mudah terdet...</td>\n",
       "    </tr>\n",
       "    <tr>\n",
       "      <th>13168</th>\n",
       "      <td>USER Mana situ ngasih(\": itu cuma foto ya kuti...</td>\n",
       "      <td>user mana situ ngasih(\": itu cuma foto ya kuti...</td>\n",
       "    </tr>\n",
       "  </tbody>\n",
       "</table>\n",
       "<p>13023 rows × 2 columns</p>\n",
       "</div>"
      ],
      "text/plain": [
       "                                                   Tweet  \\\n",
       "0      - disaat semua cowok berusaha melacak perhatia...   \n",
       "1      RT USER: USER siapa yang telat ngasih tau elu?...   \n",
       "2      41. Kadang aku berfikir, kenapa aku tetap perc...   \n",
       "3      USER USER AKU ITU AKU\\n\\nKU TAU MATAMU SIPIT T...   \n",
       "4      USER USER Kaum cebong kapir udah keliatan dong...   \n",
       "...                                                  ...   \n",
       "13164  USER jangan asal ngomong ndasmu. congor lu yg ...   \n",
       "13165                       USER Kasur mana enak kunyuk'   \n",
       "13166  USER Hati hati bisu :( .g\\n\\nlagi bosan huft \\...   \n",
       "13167  USER USER USER USER Bom yang real mudah terdet...   \n",
       "13168  USER Mana situ ngasih(\": itu cuma foto ya kuti...   \n",
       "\n",
       "                                              text_lower  \n",
       "0      - disaat semua cowok berusaha melacak perhatia...  \n",
       "1      rt user: user siapa yang telat ngasih tau elu?...  \n",
       "2      41. kadang aku berfikir, kenapa aku tetap perc...  \n",
       "3      user user aku itu aku\\n\\nku tau matamu sipit t...  \n",
       "4      user user kaum cebong kapir udah keliatan dong...  \n",
       "...                                                  ...  \n",
       "13164  user jangan asal ngomong ndasmu. congor lu yg ...  \n",
       "13165                       user kasur mana enak kunyuk'  \n",
       "13166  user hati hati bisu :( .g\\n\\nlagi bosan huft \\...  \n",
       "13167  user user user user bom yang real mudah terdet...  \n",
       "13168  user mana situ ngasih(\": itu cuma foto ya kuti...  \n",
       "\n",
       "[13023 rows x 2 columns]"
      ]
     },
     "execution_count": 279,
     "metadata": {},
     "output_type": "execute_result"
    }
   ],
   "source": [
    "df['text_lower'] = df['Tweet'].apply(lambda x: ' '.join([clean_text(word) for word in x.split()]))\n",
    "# df.drop('text', axis=1, inplace=True)\n",
    "df"
   ]
  },
  {
   "cell_type": "markdown",
   "id": "2d4f7eb6",
   "metadata": {},
   "source": [
    "## proses pembersihan data"
   ]
  },
  {
   "cell_type": "code",
   "execution_count": 280,
   "id": "d82c6426",
   "metadata": {},
   "outputs": [],
   "source": [
    "def remove_unnecessary_char(text):\n",
    "    text = re.sub(r'\\\\+n', ' ', text)\n",
    "    text = re.sub('user', ' ', text)  # remove every username\n",
    "    text = re.sub(r'\\n', \" \", text)  # remove every '\\n'\n",
    "    text = re.sub(r'(rt)', ' ', text)  # remove every retweet symbol\n",
    "    text = re.sub(r'\\\\x.{2}', ' ', text)  # remove emoji\n",
    "    text = ' '.join([re.sub('\\d{1,}\\,\\d{1,}', lambda x: t.parse(\n",
    "        word).getresult(), word) for word in text.split()])  # terbilang\n",
    "    text = ' '.join([re.sub(\n",
    "        '\\d{1,4}', lambda m: num2words(int(m.group()), lang='id'), word) for word in text.split()])\n",
    "    # remove every URL\n",
    "    text = re.sub(\n",
    "        r'((www\\.[^\\s]+)|(https?://[^\\s]+)|(http?://[^\\s]+))', ' ', text)\n",
    "    text = re.sub(r'&amp;', 'dan', text)  # remove ampersant\n",
    "    text = re.sub(r'&', 'dan', text)  # remove ampersant\n",
    "    # remove phone number +6282xxxxxxxxx\n",
    "    text = re.sub(r'\\+62\\d{2,}', ' ', text)\n",
    "    # remove phone number +628xx-xxxx-xxxx\n",
    "    text = re.sub('[\\+\\d{5}\\-\\d{4}\\-\\d{4}]', ' ', text)\n",
    "\n",
    "    text = re.sub(r'%', ' persen ', text)  # change % to persen\n",
    "    text = re.sub('[%s]' % re.escape(string.punctuation),\n",
    "                  ' ', text)  # remove punctuation\n",
    "\n",
    "    text = re.sub(r'[^a-z ]', ' ', text)  # remove another word\n",
    "    text = re.sub(r'  +', ' ', text)  # remove extra spaces\n",
    "    text = text.rstrip().lstrip()  # remove rstrip and lstrip\n",
    "\n",
    "    return text"
   ]
  },
  {
   "cell_type": "code",
   "execution_count": 281,
   "id": "bad3ba47",
   "metadata": {},
   "outputs": [],
   "source": [
    "df_kamusalay = pd.read_csv('asset_challenge/new_kamusalay.csv', encoding='latin-1', names=['find', 'replace'])\n",
    "\n",
    "\n",
    "kamusalay_mapping = dict(zip(df_kamusalay['find'], df_kamusalay['replace'])) # Mapping for kamusalay\n",
    "\n",
    "\n",
    "def handle_from_kamusalay(text): # Cleaning by replacing 'alay' words\n",
    "    wordlist = text.split()\n",
    "    text_clean = ' '.join([kamusalay_mapping.get(x,x) for x in wordlist])\n",
    "    return text_clean"
   ]
  },
  {
   "cell_type": "code",
   "execution_count": 282,
   "id": "290ec5f3",
   "metadata": {},
   "outputs": [
    {
     "data": {
      "text/html": [
       "<div>\n",
       "<style scoped>\n",
       "    .dataframe tbody tr th:only-of-type {\n",
       "        vertical-align: middle;\n",
       "    }\n",
       "\n",
       "    .dataframe tbody tr th {\n",
       "        vertical-align: top;\n",
       "    }\n",
       "\n",
       "    .dataframe thead th {\n",
       "        text-align: right;\n",
       "    }\n",
       "</style>\n",
       "<table border=\"1\" class=\"dataframe\">\n",
       "  <thead>\n",
       "    <tr style=\"text-align: right;\">\n",
       "      <th></th>\n",
       "      <th>text</th>\n",
       "    </tr>\n",
       "  </thead>\n",
       "  <tbody>\n",
       "    <tr>\n",
       "      <th>0</th>\n",
       "      <td>di saat semua cowok berusaha melacak perhatian...</td>\n",
       "    </tr>\n",
       "    <tr>\n",
       "      <th>1</th>\n",
       "      <td>siapa yang telat memberi tau kamu edan sarap g...</td>\n",
       "    </tr>\n",
       "    <tr>\n",
       "      <th>2</th>\n",
       "      <td>empat puluh satu kadang aku berpikir kenapa ak...</td>\n",
       "    </tr>\n",
       "    <tr>\n",
       "      <th>3</th>\n",
       "      <td>aku itu aku ku tau matamu sipit tapi dilihat d...</td>\n",
       "    </tr>\n",
       "    <tr>\n",
       "      <th>4</th>\n",
       "      <td>kaum cebong kafir sudah kelihatan dongoknya da...</td>\n",
       "    </tr>\n",
       "  </tbody>\n",
       "</table>\n",
       "</div>"
      ],
      "text/plain": [
       "                                                text\n",
       "0  di saat semua cowok berusaha melacak perhatian...\n",
       "1  siapa yang telat memberi tau kamu edan sarap g...\n",
       "2  empat puluh satu kadang aku berpikir kenapa ak...\n",
       "3  aku itu aku ku tau matamu sipit tapi dilihat d...\n",
       "4  kaum cebong kafir sudah kelihatan dongoknya da..."
      ]
     },
     "execution_count": 282,
     "metadata": {},
     "output_type": "execute_result"
    }
   ],
   "source": [
    "# drop text column\n",
    "df.drop(['Tweet'], axis=1, inplace=True)\n",
    "# cleaning karakter\n",
    "df['text_clean'] = df['text_lower'].apply(\n",
    "    lambda x: remove_unnecessary_char(x))\n",
    "# apply kamusalay function\n",
    "df['text'] = df['text_clean'].apply(lambda x: handle_from_kamusalay(x))\n",
    "# drop text clean column\n",
    "df.drop(['text_lower', 'text_clean'], axis=1, inplace=True)\n",
    "\n",
    "df.head()"
   ]
  },
  {
   "cell_type": "markdown",
   "id": "08b7f7b9",
   "metadata": {},
   "source": [
    "## filtering stopwords"
   ]
  },
  {
   "cell_type": "code",
   "execution_count": 283,
   "id": "4d830bea",
   "metadata": {},
   "outputs": [],
   "source": [
    "stop_words = set(stopwords.words('indonesian'))\n",
    "\n",
    "def stopword_cleansing(text):\n",
    "    word_tokens = word_tokenize(text) \n",
    "    stopword_text_clean = ' '.join([w for w in word_tokens if not w in stop_words])\n",
    "    return stopword_text_clean"
   ]
  },
  {
   "cell_type": "code",
   "execution_count": 284,
   "id": "a61a384e",
   "metadata": {},
   "outputs": [
    {
     "data": {
      "text/html": [
       "<div>\n",
       "<style scoped>\n",
       "    .dataframe tbody tr th:only-of-type {\n",
       "        vertical-align: middle;\n",
       "    }\n",
       "\n",
       "    .dataframe tbody tr th {\n",
       "        vertical-align: top;\n",
       "    }\n",
       "\n",
       "    .dataframe thead th {\n",
       "        text-align: right;\n",
       "    }\n",
       "</style>\n",
       "<table border=\"1\" class=\"dataframe\">\n",
       "  <thead>\n",
       "    <tr style=\"text-align: right;\">\n",
       "      <th></th>\n",
       "      <th>text</th>\n",
       "      <th>stopword_clean</th>\n",
       "    </tr>\n",
       "  </thead>\n",
       "  <tbody>\n",
       "    <tr>\n",
       "      <th>0</th>\n",
       "      <td>di saat semua cowok berusaha melacak perhatian...</td>\n",
       "      <td>cowok berusaha melacak perhatian gue lantas re...</td>\n",
       "    </tr>\n",
       "    <tr>\n",
       "      <th>1</th>\n",
       "      <td>siapa yang telat memberi tau kamu edan sarap g...</td>\n",
       "      <td>telat tau edan sarap gue bergaul cigax jifla c...</td>\n",
       "    </tr>\n",
       "    <tr>\n",
       "      <th>2</th>\n",
       "      <td>empat puluh satu kadang aku berpikir kenapa ak...</td>\n",
       "      <td>puluh kadang berpikir percaya tuhan jatuh berk...</td>\n",
       "    </tr>\n",
       "    <tr>\n",
       "      <th>3</th>\n",
       "      <td>aku itu aku ku tau matamu sipit tapi dilihat d...</td>\n",
       "      <td>ku tau matamu sipit</td>\n",
       "    </tr>\n",
       "    <tr>\n",
       "      <th>4</th>\n",
       "      <td>kaum cebong kafir sudah kelihatan dongoknya da...</td>\n",
       "      <td>kaum cebong kafir dongoknya dungu haha</td>\n",
       "    </tr>\n",
       "  </tbody>\n",
       "</table>\n",
       "</div>"
      ],
      "text/plain": [
       "                                                text  \\\n",
       "0  di saat semua cowok berusaha melacak perhatian...   \n",
       "1  siapa yang telat memberi tau kamu edan sarap g...   \n",
       "2  empat puluh satu kadang aku berpikir kenapa ak...   \n",
       "3  aku itu aku ku tau matamu sipit tapi dilihat d...   \n",
       "4  kaum cebong kafir sudah kelihatan dongoknya da...   \n",
       "\n",
       "                                      stopword_clean  \n",
       "0  cowok berusaha melacak perhatian gue lantas re...  \n",
       "1  telat tau edan sarap gue bergaul cigax jifla c...  \n",
       "2  puluh kadang berpikir percaya tuhan jatuh berk...  \n",
       "3                                ku tau matamu sipit  \n",
       "4             kaum cebong kafir dongoknya dungu haha  "
      ]
     },
     "execution_count": 284,
     "metadata": {},
     "output_type": "execute_result"
    }
   ],
   "source": [
    "df['stopword_clean'] = df['text'].apply(lambda x: stopword_cleansing(x))\n",
    "df.head()"
   ]
  },
  {
   "cell_type": "markdown",
   "id": "a8eff285",
   "metadata": {},
   "source": [
    "## stemming bahasa indonesia"
   ]
  },
  {
   "cell_type": "code",
   "execution_count": 285,
   "id": "8bdca601",
   "metadata": {},
   "outputs": [],
   "source": [
    "factory = StemmerFactory()\n",
    "stemmer = factory.create_stemmer()\n",
    "\n",
    "# stemming process\n",
    "def stemming_indonesian_text(text):\n",
    "    output = stemmer.stem(text)\n",
    "    return output"
   ]
  },
  {
   "cell_type": "code",
   "execution_count": 286,
   "id": "288f0e46",
   "metadata": {},
   "outputs": [
    {
     "data": {
      "text/html": [
       "<div>\n",
       "<style scoped>\n",
       "    .dataframe tbody tr th:only-of-type {\n",
       "        vertical-align: middle;\n",
       "    }\n",
       "\n",
       "    .dataframe tbody tr th {\n",
       "        vertical-align: top;\n",
       "    }\n",
       "\n",
       "    .dataframe thead th {\n",
       "        text-align: right;\n",
       "    }\n",
       "</style>\n",
       "<table border=\"1\" class=\"dataframe\">\n",
       "  <thead>\n",
       "    <tr style=\"text-align: right;\">\n",
       "      <th></th>\n",
       "      <th>text</th>\n",
       "      <th>stopword_clean</th>\n",
       "      <th>stemming_text</th>\n",
       "    </tr>\n",
       "  </thead>\n",
       "  <tbody>\n",
       "    <tr>\n",
       "      <th>0</th>\n",
       "      <td>di saat semua cowok berusaha melacak perhatian...</td>\n",
       "      <td>cowok berusaha melacak perhatian gue lantas re...</td>\n",
       "      <td>cowok usaha lacak perhati gue lantas remeh per...</td>\n",
       "    </tr>\n",
       "    <tr>\n",
       "      <th>1</th>\n",
       "      <td>siapa yang telat memberi tau kamu edan sarap g...</td>\n",
       "      <td>telat tau edan sarap gue bergaul cigax jifla c...</td>\n",
       "      <td>telat tau edan sarap gue gaul cigax jifla cal ...</td>\n",
       "    </tr>\n",
       "    <tr>\n",
       "      <th>2</th>\n",
       "      <td>empat puluh satu kadang aku berpikir kenapa ak...</td>\n",
       "      <td>puluh kadang berpikir percaya tuhan jatuh berk...</td>\n",
       "      <td>puluh kadang pikir percaya tuhan jatuh kali ka...</td>\n",
       "    </tr>\n",
       "    <tr>\n",
       "      <th>3</th>\n",
       "      <td>aku itu aku ku tau matamu sipit tapi dilihat d...</td>\n",
       "      <td>ku tau matamu sipit</td>\n",
       "      <td>ku tau mata sipit</td>\n",
       "    </tr>\n",
       "    <tr>\n",
       "      <th>4</th>\n",
       "      <td>kaum cebong kafir sudah kelihatan dongoknya da...</td>\n",
       "      <td>kaum cebong kafir dongoknya dungu haha</td>\n",
       "      <td>kaum cebong kafir dongok dungu haha</td>\n",
       "    </tr>\n",
       "  </tbody>\n",
       "</table>\n",
       "</div>"
      ],
      "text/plain": [
       "                                                text  \\\n",
       "0  di saat semua cowok berusaha melacak perhatian...   \n",
       "1  siapa yang telat memberi tau kamu edan sarap g...   \n",
       "2  empat puluh satu kadang aku berpikir kenapa ak...   \n",
       "3  aku itu aku ku tau matamu sipit tapi dilihat d...   \n",
       "4  kaum cebong kafir sudah kelihatan dongoknya da...   \n",
       "\n",
       "                                      stopword_clean  \\\n",
       "0  cowok berusaha melacak perhatian gue lantas re...   \n",
       "1  telat tau edan sarap gue bergaul cigax jifla c...   \n",
       "2  puluh kadang berpikir percaya tuhan jatuh berk...   \n",
       "3                                ku tau matamu sipit   \n",
       "4             kaum cebong kafir dongoknya dungu haha   \n",
       "\n",
       "                                       stemming_text  \n",
       "0  cowok usaha lacak perhati gue lantas remeh per...  \n",
       "1  telat tau edan sarap gue gaul cigax jifla cal ...  \n",
       "2  puluh kadang pikir percaya tuhan jatuh kali ka...  \n",
       "3                                  ku tau mata sipit  \n",
       "4                kaum cebong kafir dongok dungu haha  "
      ]
     },
     "execution_count": 286,
     "metadata": {},
     "output_type": "execute_result"
    }
   ],
   "source": [
    "# menjalankan fungsi stemming\n",
    "df['stemming_text'] = df['stopword_clean'].apply(lambda x: stemming_indonesian_text(x))\n",
    "df.head()"
   ]
  },
  {
   "cell_type": "markdown",
   "id": "7bf1e877",
   "metadata": {},
   "source": [
    "## distribusi frekuensi kata yang dominan muncul"
   ]
  },
  {
   "cell_type": "code",
   "execution_count": 287,
   "id": "adbdcc64",
   "metadata": {},
   "outputs": [
    {
     "name": "stdout",
     "output_type": "stream",
     "text": [
      "<FreqDist with 13824 samples and 147901 outcomes>\n"
     ]
    }
   ],
   "source": [
    "# Pertama kita lakukan tokenization pada dataset kita\n",
    "\n",
    "df['tweet'] = df['stemming_text'].apply(lambda x: word_tokenize(str(x)\n",
    "\n",
    "# Setelah itu kita masukkan pada semua token tersebut pada satu list yang sama \n",
    "tweets = [word for tweet in df['tweet'] for word in tweet]\n",
    " \n",
    "# Kita akan memanfaatkan library freqdist yang dimiliki oleh NLTK\n",
    "fqdist = FreqDist(tweets)\n",
    "\n",
    "print(fqdist)\n"
   ]
  },
  {
   "cell_type": "code",
   "execution_count": 288,
   "id": "2966927e",
   "metadata": {},
   "outputs": [
    {
     "name": "stdout",
     "output_type": "stream",
     "text": [
      "[('indonesia', 1645), ('orang', 1327), ('ribu', 1288), ('ya', 1196), ('gue', 1185), ('presiden', 1128), ('jokowi', 1081), ('sembilan', 957), ('puluh', 885), ('islam', 882), ('uniform', 830), ('resource', 830), ('locator', 830), ('sih', 816), ('agama', 816), ('belas', 793), ('pilih', 749), ('asing', 739), ('komunis', 722), ('rakyat', 703)]\n"
     ]
    }
   ],
   "source": [
    "# Untuk mengetahui kata dan jumlah dari masing-masing kata kita bisa menggunakan.\n",
    "most_common_word = fqdist.most_common(20)\n",
    "\n",
    "print(most_common_word)"
   ]
  },
  {
   "cell_type": "code",
   "execution_count": 289,
   "id": "9cdf92c7",
   "metadata": {},
   "outputs": [
    {
     "data": {
      "image/png": "[encoded data removed]",
      "text/plain": [
       "<Figure size 640x480 with 1 Axes>"
      ]
     },
     "metadata": {},
     "output_type": "display_data"
    }
   ],
   "source": [
    "# visualisasi kata yang sering keluar\n",
    "fqdist.plot(20,cumulative=False)\n",
    "plt.show()"
   ]
  },
  {
   "cell_type": "code",
   "execution_count": 290,
   "id": "a4b74ac1",
   "metadata": {},
   "outputs": [
    {
     "data": {
      "text/plain": [
       "(uniform, resource)               830\n",
       "(resource, locator)               830\n",
       "(ribu, sembilan)                  726\n",
       "(komunis, indonesia)              366\n",
       "(partai, komunis)                 360\n",
       "(sembilan, belasgantipresiden)    340\n",
       "(kepala, daerah)                  330\n",
       "(pilih, kepala)                   325\n",
       "(delapan, belas)                  310\n",
       "(ribu, delapan)                   294\n",
       "(sepe, i)                         230\n",
       "(wakil, rakyat)                   229\n",
       "(dewan, wakil)                    212\n",
       "(sembilan, belas)                 209\n",
       "(republik, indonesia)             167\n",
       "(tenaga, kerja)                   154\n",
       "(susilo, bambang)                 151\n",
       "(bambang, yudhoyono)              151\n",
       "(berantas, korupsi)               146\n",
       "(komisi, berantas)                142\n",
       "dtype: int64"
      ]
     },
     "execution_count": 290,
     "metadata": {},
     "output_type": "execute_result"
    }
   ],
   "source": [
    "result = pd.Series(nltk.ngrams(tweets, 2)).value_counts()[:20]\n",
    "result"
   ]
  },
  {
   "cell_type": "code",
   "execution_count": null,
   "id": "4f3f1ac9",
   "metadata": {},
   "outputs": [],
   "source": []
  },
  {
   "cell_type": "code",
   "execution_count": null,
   "id": "36cb71d9",
   "metadata": {},
   "outputs": [],
   "source": []
  },
  {
   "cell_type": "code",
   "execution_count": null,
   "id": "302499fc",
   "metadata": {},
   "outputs": [],
   "source": []
  },
  {
   "cell_type": "markdown",
   "id": "85a46fed",
   "metadata": {},
   "source": [
    "# Analisis kata alay pada media sosial"
   ]
  },
  {
   "cell_type": "code",
   "execution_count": 291,
   "id": "47b815d3",
   "metadata": {},
   "outputs": [
    {
     "data": {
      "text/html": [
       "<div>\n",
       "<style scoped>\n",
       "    .dataframe tbody tr th:only-of-type {\n",
       "        vertical-align: middle;\n",
       "    }\n",
       "\n",
       "    .dataframe tbody tr th {\n",
       "        vertical-align: top;\n",
       "    }\n",
       "\n",
       "    .dataframe thead th {\n",
       "        text-align: right;\n",
       "    }\n",
       "</style>\n",
       "<table border=\"1\" class=\"dataframe\">\n",
       "  <thead>\n",
       "    <tr style=\"text-align: right;\">\n",
       "      <th></th>\n",
       "      <th>Tweet</th>\n",
       "      <th>HS</th>\n",
       "      <th>Abusive</th>\n",
       "      <th>HS_Individual</th>\n",
       "      <th>HS_Group</th>\n",
       "      <th>HS_Religion</th>\n",
       "      <th>HS_Race</th>\n",
       "      <th>HS_Physical</th>\n",
       "      <th>HS_Gender</th>\n",
       "      <th>HS_Other</th>\n",
       "      <th>HS_Weak</th>\n",
       "      <th>HS_Moderate</th>\n",
       "      <th>HS_Strong</th>\n",
       "    </tr>\n",
       "  </thead>\n",
       "  <tbody>\n",
       "    <tr>\n",
       "      <th>0</th>\n",
       "      <td>- disaat semua cowok berusaha melacak perhatia...</td>\n",
       "      <td>1</td>\n",
       "      <td>1</td>\n",
       "      <td>1</td>\n",
       "      <td>0</td>\n",
       "      <td>0</td>\n",
       "      <td>0</td>\n",
       "      <td>0</td>\n",
       "      <td>0</td>\n",
       "      <td>1</td>\n",
       "      <td>1</td>\n",
       "      <td>0</td>\n",
       "      <td>0</td>\n",
       "    </tr>\n",
       "    <tr>\n",
       "      <th>1</th>\n",
       "      <td>RT USER: USER siapa yang telat ngasih tau elu?...</td>\n",
       "      <td>0</td>\n",
       "      <td>1</td>\n",
       "      <td>0</td>\n",
       "      <td>0</td>\n",
       "      <td>0</td>\n",
       "      <td>0</td>\n",
       "      <td>0</td>\n",
       "      <td>0</td>\n",
       "      <td>0</td>\n",
       "      <td>0</td>\n",
       "      <td>0</td>\n",
       "      <td>0</td>\n",
       "    </tr>\n",
       "    <tr>\n",
       "      <th>2</th>\n",
       "      <td>41. Kadang aku berfikir, kenapa aku tetap perc...</td>\n",
       "      <td>0</td>\n",
       "      <td>0</td>\n",
       "      <td>0</td>\n",
       "      <td>0</td>\n",
       "      <td>0</td>\n",
       "      <td>0</td>\n",
       "      <td>0</td>\n",
       "      <td>0</td>\n",
       "      <td>0</td>\n",
       "      <td>0</td>\n",
       "      <td>0</td>\n",
       "      <td>0</td>\n",
       "    </tr>\n",
       "    <tr>\n",
       "      <th>3</th>\n",
       "      <td>USER USER AKU ITU AKU\\n\\nKU TAU MATAMU SIPIT T...</td>\n",
       "      <td>0</td>\n",
       "      <td>0</td>\n",
       "      <td>0</td>\n",
       "      <td>0</td>\n",
       "      <td>0</td>\n",
       "      <td>0</td>\n",
       "      <td>0</td>\n",
       "      <td>0</td>\n",
       "      <td>0</td>\n",
       "      <td>0</td>\n",
       "      <td>0</td>\n",
       "      <td>0</td>\n",
       "    </tr>\n",
       "    <tr>\n",
       "      <th>4</th>\n",
       "      <td>USER USER Kaum cebong kapir udah keliatan dong...</td>\n",
       "      <td>1</td>\n",
       "      <td>1</td>\n",
       "      <td>0</td>\n",
       "      <td>1</td>\n",
       "      <td>1</td>\n",
       "      <td>0</td>\n",
       "      <td>0</td>\n",
       "      <td>0</td>\n",
       "      <td>0</td>\n",
       "      <td>0</td>\n",
       "      <td>1</td>\n",
       "      <td>0</td>\n",
       "    </tr>\n",
       "  </tbody>\n",
       "</table>\n",
       "</div>"
      ],
      "text/plain": [
       "                                               Tweet  HS  Abusive  \\\n",
       "0  - disaat semua cowok berusaha melacak perhatia...   1        1   \n",
       "1  RT USER: USER siapa yang telat ngasih tau elu?...   0        1   \n",
       "2  41. Kadang aku berfikir, kenapa aku tetap perc...   0        0   \n",
       "3  USER USER AKU ITU AKU\\n\\nKU TAU MATAMU SIPIT T...   0        0   \n",
       "4  USER USER Kaum cebong kapir udah keliatan dong...   1        1   \n",
       "\n",
       "   HS_Individual  HS_Group  HS_Religion  HS_Race  HS_Physical  HS_Gender  \\\n",
       "0              1         0            0        0            0          0   \n",
       "1              0         0            0        0            0          0   \n",
       "2              0         0            0        0            0          0   \n",
       "3              0         0            0        0            0          0   \n",
       "4              0         1            1        0            0          0   \n",
       "\n",
       "   HS_Other  HS_Weak  HS_Moderate  HS_Strong  \n",
       "0         1        1            0          0  \n",
       "1         0        0            0          0  \n",
       "2         0        0            0          0  \n",
       "3         0        0            0          0  \n",
       "4         0        0            1          0  "
      ]
     },
     "execution_count": 291,
     "metadata": {},
     "output_type": "execute_result"
    }
   ],
   "source": [
    "df = pd.read_csv('asset_challenge/data.csv', encoding='latin-1')\n",
    "df.head()"
   ]
  },
  {
   "cell_type": "code",
   "execution_count": 292,
   "id": "8dfe9c31",
   "metadata": {},
   "outputs": [
    {
     "data": {
      "text/html": [
       "<div>\n",
       "<style scoped>\n",
       "    .dataframe tbody tr th:only-of-type {\n",
       "        vertical-align: middle;\n",
       "    }\n",
       "\n",
       "    .dataframe tbody tr th {\n",
       "        vertical-align: top;\n",
       "    }\n",
       "\n",
       "    .dataframe thead th {\n",
       "        text-align: right;\n",
       "    }\n",
       "</style>\n",
       "<table border=\"1\" class=\"dataframe\">\n",
       "  <thead>\n",
       "    <tr style=\"text-align: right;\">\n",
       "      <th></th>\n",
       "      <th>Tweet</th>\n",
       "    </tr>\n",
       "  </thead>\n",
       "  <tbody>\n",
       "    <tr>\n",
       "      <th>0</th>\n",
       "      <td>- disaat semua cowok berusaha melacak perhatia...</td>\n",
       "    </tr>\n",
       "    <tr>\n",
       "      <th>1</th>\n",
       "      <td>RT USER: USER siapa yang telat ngasih tau elu?...</td>\n",
       "    </tr>\n",
       "    <tr>\n",
       "      <th>2</th>\n",
       "      <td>41. Kadang aku berfikir, kenapa aku tetap perc...</td>\n",
       "    </tr>\n",
       "    <tr>\n",
       "      <th>3</th>\n",
       "      <td>USER USER AKU ITU AKU\\n\\nKU TAU MATAMU SIPIT T...</td>\n",
       "    </tr>\n",
       "    <tr>\n",
       "      <th>4</th>\n",
       "      <td>USER USER Kaum cebong kapir udah keliatan dong...</td>\n",
       "    </tr>\n",
       "  </tbody>\n",
       "</table>\n",
       "</div>"
      ],
      "text/plain": [
       "                                               Tweet\n",
       "0  - disaat semua cowok berusaha melacak perhatia...\n",
       "1  RT USER: USER siapa yang telat ngasih tau elu?...\n",
       "2  41. Kadang aku berfikir, kenapa aku tetap perc...\n",
       "3  USER USER AKU ITU AKU\\n\\nKU TAU MATAMU SIPIT T...\n",
       "4  USER USER Kaum cebong kapir udah keliatan dong..."
      ]
     },
     "execution_count": 292,
     "metadata": {},
     "output_type": "execute_result"
    }
   ],
   "source": [
    "df = df[['Tweet']]\n",
    "df.head()"
   ]
  },
  {
   "cell_type": "code",
   "execution_count": 293,
   "id": "b9f76a6a",
   "metadata": {},
   "outputs": [],
   "source": [
    "# merubah kalimat menjadi huruf kecil\n",
    "\n",
    "def lower_text(text):\n",
    "  text = text.lower()\n",
    "  return text"
   ]
  },
  {
   "cell_type": "code",
   "execution_count": 294,
   "id": "456b7641",
   "metadata": {},
   "outputs": [
    {
     "data": {
      "text/html": [
       "<div>\n",
       "<style scoped>\n",
       "    .dataframe tbody tr th:only-of-type {\n",
       "        vertical-align: middle;\n",
       "    }\n",
       "\n",
       "    .dataframe tbody tr th {\n",
       "        vertical-align: top;\n",
       "    }\n",
       "\n",
       "    .dataframe thead th {\n",
       "        text-align: right;\n",
       "    }\n",
       "</style>\n",
       "<table border=\"1\" class=\"dataframe\">\n",
       "  <thead>\n",
       "    <tr style=\"text-align: right;\">\n",
       "      <th></th>\n",
       "      <th>Tweet</th>\n",
       "      <th>lower_text</th>\n",
       "    </tr>\n",
       "  </thead>\n",
       "  <tbody>\n",
       "    <tr>\n",
       "      <th>0</th>\n",
       "      <td>- disaat semua cowok berusaha melacak perhatia...</td>\n",
       "      <td>- disaat semua cowok berusaha melacak perhatia...</td>\n",
       "    </tr>\n",
       "    <tr>\n",
       "      <th>1</th>\n",
       "      <td>RT USER: USER siapa yang telat ngasih tau elu?...</td>\n",
       "      <td>rt user: user siapa yang telat ngasih tau elu?...</td>\n",
       "    </tr>\n",
       "    <tr>\n",
       "      <th>2</th>\n",
       "      <td>41. Kadang aku berfikir, kenapa aku tetap perc...</td>\n",
       "      <td>41. kadang aku berfikir, kenapa aku tetap perc...</td>\n",
       "    </tr>\n",
       "    <tr>\n",
       "      <th>3</th>\n",
       "      <td>USER USER AKU ITU AKU\\n\\nKU TAU MATAMU SIPIT T...</td>\n",
       "      <td>user user aku itu aku\\n\\nku tau matamu sipit t...</td>\n",
       "    </tr>\n",
       "    <tr>\n",
       "      <th>4</th>\n",
       "      <td>USER USER Kaum cebong kapir udah keliatan dong...</td>\n",
       "      <td>user user kaum cebong kapir udah keliatan dong...</td>\n",
       "    </tr>\n",
       "  </tbody>\n",
       "</table>\n",
       "</div>"
      ],
      "text/plain": [
       "                                               Tweet  \\\n",
       "0  - disaat semua cowok berusaha melacak perhatia...   \n",
       "1  RT USER: USER siapa yang telat ngasih tau elu?...   \n",
       "2  41. Kadang aku berfikir, kenapa aku tetap perc...   \n",
       "3  USER USER AKU ITU AKU\\n\\nKU TAU MATAMU SIPIT T...   \n",
       "4  USER USER Kaum cebong kapir udah keliatan dong...   \n",
       "\n",
       "                                          lower_text  \n",
       "0  - disaat semua cowok berusaha melacak perhatia...  \n",
       "1  rt user: user siapa yang telat ngasih tau elu?...  \n",
       "2  41. kadang aku berfikir, kenapa aku tetap perc...  \n",
       "3  user user aku itu aku\\n\\nku tau matamu sipit t...  \n",
       "4  user user kaum cebong kapir udah keliatan dong...  "
      ]
     },
     "execution_count": 294,
     "metadata": {},
     "output_type": "execute_result"
    }
   ],
   "source": [
    "df['lower_text'] = df['Tweet'].apply(lambda x: lower_text(x))\n",
    "df.head()"
   ]
  },
  {
   "cell_type": "markdown",
   "id": "3a02f947",
   "metadata": {},
   "source": [
    "## dataframe kamusalay"
   ]
  },
  {
   "cell_type": "code",
   "execution_count": 295,
   "id": "03d13193",
   "metadata": {},
   "outputs": [
    {
     "data": {
      "text/html": [
       "<div>\n",
       "<style scoped>\n",
       "    .dataframe tbody tr th:only-of-type {\n",
       "        vertical-align: middle;\n",
       "    }\n",
       "\n",
       "    .dataframe tbody tr th {\n",
       "        vertical-align: top;\n",
       "    }\n",
       "\n",
       "    .dataframe thead th {\n",
       "        text-align: right;\n",
       "    }\n",
       "</style>\n",
       "<table border=\"1\" class=\"dataframe\">\n",
       "  <thead>\n",
       "    <tr style=\"text-align: right;\">\n",
       "      <th></th>\n",
       "      <th>0</th>\n",
       "      <th>1</th>\n",
       "    </tr>\n",
       "  </thead>\n",
       "  <tbody>\n",
       "    <tr>\n",
       "      <th>0</th>\n",
       "      <td>anakjakartaasikasik</td>\n",
       "      <td>anak jakarta asyik asyik</td>\n",
       "    </tr>\n",
       "    <tr>\n",
       "      <th>1</th>\n",
       "      <td>pakcikdahtua</td>\n",
       "      <td>pak cik sudah tua</td>\n",
       "    </tr>\n",
       "    <tr>\n",
       "      <th>2</th>\n",
       "      <td>pakcikmudalagi</td>\n",
       "      <td>pak cik muda lagi</td>\n",
       "    </tr>\n",
       "    <tr>\n",
       "      <th>3</th>\n",
       "      <td>t3tapjokowi</td>\n",
       "      <td>tetap jokowi</td>\n",
       "    </tr>\n",
       "    <tr>\n",
       "      <th>4</th>\n",
       "      <td>3x</td>\n",
       "      <td>tiga kali</td>\n",
       "    </tr>\n",
       "  </tbody>\n",
       "</table>\n",
       "</div>"
      ],
      "text/plain": [
       "                     0                         1\n",
       "0  anakjakartaasikasik  anak jakarta asyik asyik\n",
       "1         pakcikdahtua         pak cik sudah tua\n",
       "2       pakcikmudalagi         pak cik muda lagi\n",
       "3          t3tapjokowi              tetap jokowi\n",
       "4                   3x                 tiga kali"
      ]
     },
     "execution_count": 295,
     "metadata": {},
     "output_type": "execute_result"
    }
   ],
   "source": [
    "df_kamusalay = pd.read_csv('asset_challenge/new_kamusalay.csv', encoding='latin-1', header=None)\n",
    "df_kamusalay.head()"
   ]
  },
  {
   "cell_type": "markdown",
   "id": "aea9b547",
   "metadata": {},
   "source": [
    "### melihat isi kata alay pada setiap baris"
   ]
  },
  {
   "cell_type": "code",
   "execution_count": 296,
   "id": "c4a9978b",
   "metadata": {},
   "outputs": [],
   "source": [
    "df_kamusalay = pd.read_csv('asset_challenge/new_kamusalay.csv', encoding='latin-1', names=['alay_text', 'normal_text'])\n",
    "\n",
    "kamusalay_mapping = dict(zip(df_kamusalay['alay_text'], df_kamusalay['normal_text'])) # Mapping for kamusalay\n",
    "\n",
    "def handle_from_kamusalay(text):\n",
    "    wordlist = text.split()\n",
    "    text_alay = [text for text in wordlist if text in kamusalay_mapping]\n",
    "    return text_alay\n"
   ]
  },
  {
   "cell_type": "code",
   "execution_count": 297,
   "id": "39d87332",
   "metadata": {},
   "outputs": [
    {
     "data": {
      "text/html": [
       "<div>\n",
       "<style scoped>\n",
       "    .dataframe tbody tr th:only-of-type {\n",
       "        vertical-align: middle;\n",
       "    }\n",
       "\n",
       "    .dataframe tbody tr th {\n",
       "        vertical-align: top;\n",
       "    }\n",
       "\n",
       "    .dataframe thead th {\n",
       "        text-align: right;\n",
       "    }\n",
       "</style>\n",
       "<table border=\"1\" class=\"dataframe\">\n",
       "  <thead>\n",
       "    <tr style=\"text-align: right;\">\n",
       "      <th></th>\n",
       "      <th>lower_text</th>\n",
       "      <th>text_alay</th>\n",
       "    </tr>\n",
       "  </thead>\n",
       "  <tbody>\n",
       "    <tr>\n",
       "      <th>0</th>\n",
       "      <td>- disaat semua cowok berusaha melacak perhatia...</td>\n",
       "      <td>[disaat, loe, yg, elo]</td>\n",
       "    </tr>\n",
       "    <tr>\n",
       "      <th>1</th>\n",
       "      <td>rt user: user siapa yang telat ngasih tau elu?...</td>\n",
       "      <td>[user, ngasih, noh]</td>\n",
       "    </tr>\n",
       "    <tr>\n",
       "      <th>2</th>\n",
       "      <td>41. kadang aku berfikir, kenapa aku tetap perc...</td>\n",
       "      <td>[ninggalkan, orangtuaku]</td>\n",
       "    </tr>\n",
       "    <tr>\n",
       "      <th>3</th>\n",
       "      <td>user user aku itu aku\\n\\nku tau matamu sipit t...</td>\n",
       "      <td>[user, user, diliat]</td>\n",
       "    </tr>\n",
       "    <tr>\n",
       "      <th>4</th>\n",
       "      <td>user user kaum cebong kapir udah keliatan dong...</td>\n",
       "      <td>[user, user, kapir, udah, keliatan, dongok]</td>\n",
       "    </tr>\n",
       "  </tbody>\n",
       "</table>\n",
       "</div>"
      ],
      "text/plain": [
       "                                          lower_text  \\\n",
       "0  - disaat semua cowok berusaha melacak perhatia...   \n",
       "1  rt user: user siapa yang telat ngasih tau elu?...   \n",
       "2  41. kadang aku berfikir, kenapa aku tetap perc...   \n",
       "3  user user aku itu aku\\n\\nku tau matamu sipit t...   \n",
       "4  user user kaum cebong kapir udah keliatan dong...   \n",
       "\n",
       "                                     text_alay  \n",
       "0                       [disaat, loe, yg, elo]  \n",
       "1                          [user, ngasih, noh]  \n",
       "2                     [ninggalkan, orangtuaku]  \n",
       "3                         [user, user, diliat]  \n",
       "4  [user, user, kapir, udah, keliatan, dongok]  "
      ]
     },
     "execution_count": 297,
     "metadata": {},
     "output_type": "execute_result"
    }
   ],
   "source": [
    "df['text_alay'] = df['lower_text'].apply(lambda x: handle_from_kamusalay(x))\n",
    "df.drop('Tweet',axis=1, inplace=True)\n",
    "df.head()"
   ]
  },
  {
   "cell_type": "markdown",
   "id": "421b2607",
   "metadata": {},
   "source": [
    "### melihat kata alay dengan nilai unik pada setiap baris"
   ]
  },
  {
   "cell_type": "code",
   "execution_count": 298,
   "id": "8290b423",
   "metadata": {},
   "outputs": [],
   "source": [
    "# text alay dengan nilai unik per kolom\n",
    "def unique_alay(data_list):\n",
    "    alay_uniq = list(set(data_list))\n",
    "    return alay_uniq"
   ]
  },
  {
   "cell_type": "code",
   "execution_count": 299,
   "id": "ac1d7c6b",
   "metadata": {},
   "outputs": [
    {
     "data": {
      "text/html": [
       "<div>\n",
       "<style scoped>\n",
       "    .dataframe tbody tr th:only-of-type {\n",
       "        vertical-align: middle;\n",
       "    }\n",
       "\n",
       "    .dataframe tbody tr th {\n",
       "        vertical-align: top;\n",
       "    }\n",
       "\n",
       "    .dataframe thead th {\n",
       "        text-align: right;\n",
       "    }\n",
       "</style>\n",
       "<table border=\"1\" class=\"dataframe\">\n",
       "  <thead>\n",
       "    <tr style=\"text-align: right;\">\n",
       "      <th></th>\n",
       "      <th>lower_text</th>\n",
       "      <th>text_alay</th>\n",
       "      <th>text_alay_unique</th>\n",
       "    </tr>\n",
       "  </thead>\n",
       "  <tbody>\n",
       "    <tr>\n",
       "      <th>0</th>\n",
       "      <td>- disaat semua cowok berusaha melacak perhatia...</td>\n",
       "      <td>[disaat, loe, yg, elo]</td>\n",
       "      <td>[loe, elo, disaat, yg]</td>\n",
       "    </tr>\n",
       "    <tr>\n",
       "      <th>1</th>\n",
       "      <td>rt user: user siapa yang telat ngasih tau elu?...</td>\n",
       "      <td>[user, ngasih, noh]</td>\n",
       "      <td>[user, ngasih, noh]</td>\n",
       "    </tr>\n",
       "    <tr>\n",
       "      <th>2</th>\n",
       "      <td>41. kadang aku berfikir, kenapa aku tetap perc...</td>\n",
       "      <td>[ninggalkan, orangtuaku]</td>\n",
       "      <td>[ninggalkan, orangtuaku]</td>\n",
       "    </tr>\n",
       "    <tr>\n",
       "      <th>3</th>\n",
       "      <td>user user aku itu aku\\n\\nku tau matamu sipit t...</td>\n",
       "      <td>[user, user, diliat]</td>\n",
       "      <td>[diliat, user]</td>\n",
       "    </tr>\n",
       "    <tr>\n",
       "      <th>4</th>\n",
       "      <td>user user kaum cebong kapir udah keliatan dong...</td>\n",
       "      <td>[user, user, kapir, udah, keliatan, dongok]</td>\n",
       "      <td>[kapir, keliatan, udah, dongok, user]</td>\n",
       "    </tr>\n",
       "  </tbody>\n",
       "</table>\n",
       "</div>"
      ],
      "text/plain": [
       "                                          lower_text  \\\n",
       "0  - disaat semua cowok berusaha melacak perhatia...   \n",
       "1  rt user: user siapa yang telat ngasih tau elu?...   \n",
       "2  41. kadang aku berfikir, kenapa aku tetap perc...   \n",
       "3  user user aku itu aku\\n\\nku tau matamu sipit t...   \n",
       "4  user user kaum cebong kapir udah keliatan dong...   \n",
       "\n",
       "                                     text_alay  \\\n",
       "0                       [disaat, loe, yg, elo]   \n",
       "1                          [user, ngasih, noh]   \n",
       "2                     [ninggalkan, orangtuaku]   \n",
       "3                         [user, user, diliat]   \n",
       "4  [user, user, kapir, udah, keliatan, dongok]   \n",
       "\n",
       "                        text_alay_unique  \n",
       "0                 [loe, elo, disaat, yg]  \n",
       "1                    [user, ngasih, noh]  \n",
       "2               [ninggalkan, orangtuaku]  \n",
       "3                         [diliat, user]  \n",
       "4  [kapir, keliatan, udah, dongok, user]  "
      ]
     },
     "execution_count": 299,
     "metadata": {},
     "output_type": "execute_result"
    }
   ],
   "source": [
    "df['text_alay_unique'] = df['text_alay'].apply(lambda x: unique_alay(x))\n",
    "df.head()"
   ]
  },
  {
   "cell_type": "markdown",
   "id": "f76537d6",
   "metadata": {},
   "source": [
    "### menghitung banyak kata alay pada setiap baris"
   ]
  },
  {
   "cell_type": "code",
   "execution_count": 300,
   "id": "0d99a83c",
   "metadata": {},
   "outputs": [
    {
     "data": {
      "text/html": [
       "<div>\n",
       "<style scoped>\n",
       "    .dataframe tbody tr th:only-of-type {\n",
       "        vertical-align: middle;\n",
       "    }\n",
       "\n",
       "    .dataframe tbody tr th {\n",
       "        vertical-align: top;\n",
       "    }\n",
       "\n",
       "    .dataframe thead th {\n",
       "        text-align: right;\n",
       "    }\n",
       "</style>\n",
       "<table border=\"1\" class=\"dataframe\">\n",
       "  <thead>\n",
       "    <tr style=\"text-align: right;\">\n",
       "      <th></th>\n",
       "      <th>lower_text</th>\n",
       "      <th>text_alay</th>\n",
       "      <th>text_alay_unique</th>\n",
       "      <th>length_alay</th>\n",
       "    </tr>\n",
       "  </thead>\n",
       "  <tbody>\n",
       "    <tr>\n",
       "      <th>0</th>\n",
       "      <td>- disaat semua cowok berusaha melacak perhatia...</td>\n",
       "      <td>[disaat, loe, yg, elo]</td>\n",
       "      <td>[loe, elo, disaat, yg]</td>\n",
       "      <td>4</td>\n",
       "    </tr>\n",
       "    <tr>\n",
       "      <th>1</th>\n",
       "      <td>rt user: user siapa yang telat ngasih tau elu?...</td>\n",
       "      <td>[user, ngasih, noh]</td>\n",
       "      <td>[user, ngasih, noh]</td>\n",
       "      <td>3</td>\n",
       "    </tr>\n",
       "    <tr>\n",
       "      <th>2</th>\n",
       "      <td>41. kadang aku berfikir, kenapa aku tetap perc...</td>\n",
       "      <td>[ninggalkan, orangtuaku]</td>\n",
       "      <td>[ninggalkan, orangtuaku]</td>\n",
       "      <td>2</td>\n",
       "    </tr>\n",
       "    <tr>\n",
       "      <th>3</th>\n",
       "      <td>user user aku itu aku\\n\\nku tau matamu sipit t...</td>\n",
       "      <td>[user, user, diliat]</td>\n",
       "      <td>[diliat, user]</td>\n",
       "      <td>3</td>\n",
       "    </tr>\n",
       "    <tr>\n",
       "      <th>4</th>\n",
       "      <td>user user kaum cebong kapir udah keliatan dong...</td>\n",
       "      <td>[user, user, kapir, udah, keliatan, dongok]</td>\n",
       "      <td>[kapir, keliatan, udah, dongok, user]</td>\n",
       "      <td>6</td>\n",
       "    </tr>\n",
       "  </tbody>\n",
       "</table>\n",
       "</div>"
      ],
      "text/plain": [
       "                                          lower_text  \\\n",
       "0  - disaat semua cowok berusaha melacak perhatia...   \n",
       "1  rt user: user siapa yang telat ngasih tau elu?...   \n",
       "2  41. kadang aku berfikir, kenapa aku tetap perc...   \n",
       "3  user user aku itu aku\\n\\nku tau matamu sipit t...   \n",
       "4  user user kaum cebong kapir udah keliatan dong...   \n",
       "\n",
       "                                     text_alay  \\\n",
       "0                       [disaat, loe, yg, elo]   \n",
       "1                          [user, ngasih, noh]   \n",
       "2                     [ninggalkan, orangtuaku]   \n",
       "3                         [user, user, diliat]   \n",
       "4  [user, user, kapir, udah, keliatan, dongok]   \n",
       "\n",
       "                        text_alay_unique  length_alay  \n",
       "0                 [loe, elo, disaat, yg]            4  \n",
       "1                    [user, ngasih, noh]            3  \n",
       "2               [ninggalkan, orangtuaku]            2  \n",
       "3                         [diliat, user]            3  \n",
       "4  [kapir, keliatan, udah, dongok, user]            6  "
      ]
     },
     "execution_count": 300,
     "metadata": {},
     "output_type": "execute_result"
    }
   ],
   "source": [
    "# fungsi menghitung banyak kata alay pada setiap baris\n",
    "def len_alay_text(data):\n",
    "    total = len(data)\n",
    "    return total\n",
    "\n",
    "df['length_alay'] = df['text_alay'].apply(lambda x: len_alay_text(x))\n",
    "df.head()"
   ]
  },
  {
   "cell_type": "markdown",
   "id": "a02b522a",
   "metadata": {},
   "source": [
    "### menghitung banyak kata alay unik per baris"
   ]
  },
  {
   "cell_type": "code",
   "execution_count": 301,
   "id": "7abbaa3e",
   "metadata": {},
   "outputs": [
    {
     "data": {
      "text/html": [
       "<div>\n",
       "<style scoped>\n",
       "    .dataframe tbody tr th:only-of-type {\n",
       "        vertical-align: middle;\n",
       "    }\n",
       "\n",
       "    .dataframe tbody tr th {\n",
       "        vertical-align: top;\n",
       "    }\n",
       "\n",
       "    .dataframe thead th {\n",
       "        text-align: right;\n",
       "    }\n",
       "</style>\n",
       "<table border=\"1\" class=\"dataframe\">\n",
       "  <thead>\n",
       "    <tr style=\"text-align: right;\">\n",
       "      <th></th>\n",
       "      <th>lower_text</th>\n",
       "      <th>text_alay</th>\n",
       "      <th>text_alay_unique</th>\n",
       "      <th>length_alay</th>\n",
       "      <th>length_alay_unique</th>\n",
       "    </tr>\n",
       "  </thead>\n",
       "  <tbody>\n",
       "    <tr>\n",
       "      <th>0</th>\n",
       "      <td>- disaat semua cowok berusaha melacak perhatia...</td>\n",
       "      <td>[disaat, loe, yg, elo]</td>\n",
       "      <td>[loe, elo, disaat, yg]</td>\n",
       "      <td>4</td>\n",
       "      <td>4</td>\n",
       "    </tr>\n",
       "    <tr>\n",
       "      <th>1</th>\n",
       "      <td>rt user: user siapa yang telat ngasih tau elu?...</td>\n",
       "      <td>[user, ngasih, noh]</td>\n",
       "      <td>[user, ngasih, noh]</td>\n",
       "      <td>3</td>\n",
       "      <td>3</td>\n",
       "    </tr>\n",
       "    <tr>\n",
       "      <th>2</th>\n",
       "      <td>41. kadang aku berfikir, kenapa aku tetap perc...</td>\n",
       "      <td>[ninggalkan, orangtuaku]</td>\n",
       "      <td>[ninggalkan, orangtuaku]</td>\n",
       "      <td>2</td>\n",
       "      <td>2</td>\n",
       "    </tr>\n",
       "    <tr>\n",
       "      <th>3</th>\n",
       "      <td>user user aku itu aku\\n\\nku tau matamu sipit t...</td>\n",
       "      <td>[user, user, diliat]</td>\n",
       "      <td>[diliat, user]</td>\n",
       "      <td>3</td>\n",
       "      <td>2</td>\n",
       "    </tr>\n",
       "    <tr>\n",
       "      <th>4</th>\n",
       "      <td>user user kaum cebong kapir udah keliatan dong...</td>\n",
       "      <td>[user, user, kapir, udah, keliatan, dongok]</td>\n",
       "      <td>[kapir, keliatan, udah, dongok, user]</td>\n",
       "      <td>6</td>\n",
       "      <td>5</td>\n",
       "    </tr>\n",
       "  </tbody>\n",
       "</table>\n",
       "</div>"
      ],
      "text/plain": [
       "                                          lower_text  \\\n",
       "0  - disaat semua cowok berusaha melacak perhatia...   \n",
       "1  rt user: user siapa yang telat ngasih tau elu?...   \n",
       "2  41. kadang aku berfikir, kenapa aku tetap perc...   \n",
       "3  user user aku itu aku\\n\\nku tau matamu sipit t...   \n",
       "4  user user kaum cebong kapir udah keliatan dong...   \n",
       "\n",
       "                                     text_alay  \\\n",
       "0                       [disaat, loe, yg, elo]   \n",
       "1                          [user, ngasih, noh]   \n",
       "2                     [ninggalkan, orangtuaku]   \n",
       "3                         [user, user, diliat]   \n",
       "4  [user, user, kapir, udah, keliatan, dongok]   \n",
       "\n",
       "                        text_alay_unique  length_alay  length_alay_unique  \n",
       "0                 [loe, elo, disaat, yg]            4                   4  \n",
       "1                    [user, ngasih, noh]            3                   3  \n",
       "2               [ninggalkan, orangtuaku]            2                   2  \n",
       "3                         [diliat, user]            3                   2  \n",
       "4  [kapir, keliatan, udah, dongok, user]            6                   5  "
      ]
     },
     "execution_count": 301,
     "metadata": {},
     "output_type": "execute_result"
    }
   ],
   "source": [
    "df['length_alay_unique'] = df['text_alay_unique'].apply(lambda x: len_alay_text(x))\n",
    "df.head()"
   ]
  },
  {
   "cell_type": "markdown",
   "id": "11d67b1a",
   "metadata": {},
   "source": [
    "### menghitung banyak kata pada setiap baris"
   ]
  },
  {
   "cell_type": "code",
   "execution_count": 302,
   "id": "c087b5b0",
   "metadata": {},
   "outputs": [
    {
     "data": {
      "text/html": [
       "<div>\n",
       "<style scoped>\n",
       "    .dataframe tbody tr th:only-of-type {\n",
       "        vertical-align: middle;\n",
       "    }\n",
       "\n",
       "    .dataframe tbody tr th {\n",
       "        vertical-align: top;\n",
       "    }\n",
       "\n",
       "    .dataframe thead th {\n",
       "        text-align: right;\n",
       "    }\n",
       "</style>\n",
       "<table border=\"1\" class=\"dataframe\">\n",
       "  <thead>\n",
       "    <tr style=\"text-align: right;\">\n",
       "      <th></th>\n",
       "      <th>lower_text</th>\n",
       "      <th>text_alay</th>\n",
       "      <th>text_alay_unique</th>\n",
       "      <th>length_alay</th>\n",
       "      <th>length_alay_unique</th>\n",
       "      <th>total_length</th>\n",
       "    </tr>\n",
       "  </thead>\n",
       "  <tbody>\n",
       "    <tr>\n",
       "      <th>0</th>\n",
       "      <td>- disaat semua cowok berusaha melacak perhatia...</td>\n",
       "      <td>[disaat, loe, yg, elo]</td>\n",
       "      <td>[loe, elo, disaat, yg]</td>\n",
       "      <td>4</td>\n",
       "      <td>4</td>\n",
       "      <td>25</td>\n",
       "    </tr>\n",
       "    <tr>\n",
       "      <th>1</th>\n",
       "      <td>rt user: user siapa yang telat ngasih tau elu?...</td>\n",
       "      <td>[user, ngasih, noh]</td>\n",
       "      <td>[user, ngasih, noh]</td>\n",
       "      <td>3</td>\n",
       "      <td>3</td>\n",
       "      <td>21</td>\n",
       "    </tr>\n",
       "    <tr>\n",
       "      <th>2</th>\n",
       "      <td>41. kadang aku berfikir, kenapa aku tetap perc...</td>\n",
       "      <td>[ninggalkan, orangtuaku]</td>\n",
       "      <td>[ninggalkan, orangtuaku]</td>\n",
       "      <td>2</td>\n",
       "      <td>2</td>\n",
       "      <td>37</td>\n",
       "    </tr>\n",
       "    <tr>\n",
       "      <th>3</th>\n",
       "      <td>user user aku itu aku\\n\\nku tau matamu sipit t...</td>\n",
       "      <td>[user, user, diliat]</td>\n",
       "      <td>[diliat, user]</td>\n",
       "      <td>3</td>\n",
       "      <td>2</td>\n",
       "      <td>14</td>\n",
       "    </tr>\n",
       "    <tr>\n",
       "      <th>4</th>\n",
       "      <td>user user kaum cebong kapir udah keliatan dong...</td>\n",
       "      <td>[user, user, kapir, udah, keliatan, dongok]</td>\n",
       "      <td>[kapir, keliatan, udah, dongok, user]</td>\n",
       "      <td>6</td>\n",
       "      <td>5</td>\n",
       "      <td>14</td>\n",
       "    </tr>\n",
       "  </tbody>\n",
       "</table>\n",
       "</div>"
      ],
      "text/plain": [
       "                                          lower_text  \\\n",
       "0  - disaat semua cowok berusaha melacak perhatia...   \n",
       "1  rt user: user siapa yang telat ngasih tau elu?...   \n",
       "2  41. kadang aku berfikir, kenapa aku tetap perc...   \n",
       "3  user user aku itu aku\\n\\nku tau matamu sipit t...   \n",
       "4  user user kaum cebong kapir udah keliatan dong...   \n",
       "\n",
       "                                     text_alay  \\\n",
       "0                       [disaat, loe, yg, elo]   \n",
       "1                          [user, ngasih, noh]   \n",
       "2                     [ninggalkan, orangtuaku]   \n",
       "3                         [user, user, diliat]   \n",
       "4  [user, user, kapir, udah, keliatan, dongok]   \n",
       "\n",
       "                        text_alay_unique  length_alay  length_alay_unique  \\\n",
       "0                 [loe, elo, disaat, yg]            4                   4   \n",
       "1                    [user, ngasih, noh]            3                   3   \n",
       "2               [ninggalkan, orangtuaku]            2                   2   \n",
       "3                         [diliat, user]            3                   2   \n",
       "4  [kapir, keliatan, udah, dongok, user]            6                   5   \n",
       "\n",
       "   total_length  \n",
       "0            25  \n",
       "1            21  \n",
       "2            37  \n",
       "3            14  \n",
       "4            14  "
      ]
     },
     "execution_count": 302,
     "metadata": {},
     "output_type": "execute_result"
    }
   ],
   "source": [
    "# fungsi menghitung banyak kata per baris\n",
    "\n",
    "def len_text(text):\n",
    "    wordlist = text.split()\n",
    "    total = len(wordlist)\n",
    "    return total\n",
    "\n",
    "df['total_length'] = df['lower_text'].apply(lambda x: len_text(x))\n",
    "df.head()"
   ]
  },
  {
   "cell_type": "markdown",
   "id": "9d82c7c7",
   "metadata": {},
   "source": [
    "## Descriptive analytics"
   ]
  },
  {
   "cell_type": "code",
   "execution_count": 303,
   "id": "0660d0e6",
   "metadata": {},
   "outputs": [
    {
     "data": {
      "text/html": [
       "<div>\n",
       "<style scoped>\n",
       "    .dataframe tbody tr th:only-of-type {\n",
       "        vertical-align: middle;\n",
       "    }\n",
       "\n",
       "    .dataframe tbody tr th {\n",
       "        vertical-align: top;\n",
       "    }\n",
       "\n",
       "    .dataframe thead th {\n",
       "        text-align: right;\n",
       "    }\n",
       "</style>\n",
       "<table border=\"1\" class=\"dataframe\">\n",
       "  <thead>\n",
       "    <tr style=\"text-align: right;\">\n",
       "      <th></th>\n",
       "      <th>length_alay</th>\n",
       "      <th>length_alay_unique</th>\n",
       "      <th>total_length</th>\n",
       "    </tr>\n",
       "  </thead>\n",
       "  <tbody>\n",
       "    <tr>\n",
       "      <th>count</th>\n",
       "      <td>13169.000000</td>\n",
       "      <td>13169.000000</td>\n",
       "      <td>13169.000000</td>\n",
       "    </tr>\n",
       "    <tr>\n",
       "      <th>mean</th>\n",
       "      <td>3.980484</td>\n",
       "      <td>3.125826</td>\n",
       "      <td>17.282102</td>\n",
       "    </tr>\n",
       "    <tr>\n",
       "      <th>std</th>\n",
       "      <td>3.732330</td>\n",
       "      <td>2.689401</td>\n",
       "      <td>10.231973</td>\n",
       "    </tr>\n",
       "    <tr>\n",
       "      <th>min</th>\n",
       "      <td>0.000000</td>\n",
       "      <td>0.000000</td>\n",
       "      <td>1.000000</td>\n",
       "    </tr>\n",
       "    <tr>\n",
       "      <th>25%</th>\n",
       "      <td>1.000000</td>\n",
       "      <td>1.000000</td>\n",
       "      <td>9.000000</td>\n",
       "    </tr>\n",
       "    <tr>\n",
       "      <th>50%</th>\n",
       "      <td>3.000000</td>\n",
       "      <td>2.000000</td>\n",
       "      <td>15.000000</td>\n",
       "    </tr>\n",
       "    <tr>\n",
       "      <th>75%</th>\n",
       "      <td>5.000000</td>\n",
       "      <td>4.000000</td>\n",
       "      <td>23.000000</td>\n",
       "    </tr>\n",
       "    <tr>\n",
       "      <th>max</th>\n",
       "      <td>33.000000</td>\n",
       "      <td>23.000000</td>\n",
       "      <td>52.000000</td>\n",
       "    </tr>\n",
       "  </tbody>\n",
       "</table>\n",
       "</div>"
      ],
      "text/plain": [
       "        length_alay  length_alay_unique  total_length\n",
       "count  13169.000000        13169.000000  13169.000000\n",
       "mean       3.980484            3.125826     17.282102\n",
       "std        3.732330            2.689401     10.231973\n",
       "min        0.000000            0.000000      1.000000\n",
       "25%        1.000000            1.000000      9.000000\n",
       "50%        3.000000            2.000000     15.000000\n",
       "75%        5.000000            4.000000     23.000000\n",
       "max       33.000000           23.000000     52.000000"
      ]
     },
     "execution_count": 303,
     "metadata": {},
     "output_type": "execute_result"
    }
   ],
   "source": [
    "# melihat nilai descriptive pada data \n",
    "df.describe()"
   ]
  },
  {
   "cell_type": "code",
   "execution_count": 424,
   "id": "980ccdae",
   "metadata": {},
   "outputs": [
    {
     "name": "stderr",
     "output_type": "stream",
     "text": [
      "C:\\Users\\LENOVO\\AppData\\Local\\Temp\\ipykernel_3892\\194933213.py:2: FutureWarning: The default value of numeric_only in DataFrame.corr is deprecated. In a future version, it will default to False. Select only valid columns or specify the value of numeric_only to silence this warning.\n",
      "  df.corr()\n"
     ]
    },
    {
     "data": {
      "text/html": [
       "<div>\n",
       "<style scoped>\n",
       "    .dataframe tbody tr th:only-of-type {\n",
       "        vertical-align: middle;\n",
       "    }\n",
       "\n",
       "    .dataframe tbody tr th {\n",
       "        vertical-align: top;\n",
       "    }\n",
       "\n",
       "    .dataframe thead th {\n",
       "        text-align: right;\n",
       "    }\n",
       "</style>\n",
       "<table border=\"1\" class=\"dataframe\">\n",
       "  <thead>\n",
       "    <tr style=\"text-align: right;\">\n",
       "      <th></th>\n",
       "      <th>length_alay</th>\n",
       "      <th>length_alay_unique</th>\n",
       "      <th>total_length</th>\n",
       "    </tr>\n",
       "  </thead>\n",
       "  <tbody>\n",
       "    <tr>\n",
       "      <th>length_alay</th>\n",
       "      <td>1.000000</td>\n",
       "      <td>0.830269</td>\n",
       "      <td>0.516186</td>\n",
       "    </tr>\n",
       "    <tr>\n",
       "      <th>length_alay_unique</th>\n",
       "      <td>0.830269</td>\n",
       "      <td>1.000000</td>\n",
       "      <td>0.520797</td>\n",
       "    </tr>\n",
       "    <tr>\n",
       "      <th>total_length</th>\n",
       "      <td>0.516186</td>\n",
       "      <td>0.520797</td>\n",
       "      <td>1.000000</td>\n",
       "    </tr>\n",
       "  </tbody>\n",
       "</table>\n",
       "</div>"
      ],
      "text/plain": [
       "                    length_alay  length_alay_unique  total_length\n",
       "length_alay            1.000000            0.830269      0.516186\n",
       "length_alay_unique     0.830269            1.000000      0.520797\n",
       "total_length           0.516186            0.520797      1.000000"
      ]
     },
     "execution_count": 424,
     "metadata": {},
     "output_type": "execute_result"
    }
   ],
   "source": [
    "# melihat korelasi antar tabel dengan df.corr()\n",
    "df.corr()"
   ]
  },
  {
   "cell_type": "markdown",
   "id": "258e3915",
   "metadata": {},
   "source": [
    "### range pada setiap kolom"
   ]
  },
  {
   "cell_type": "code",
   "execution_count": 307,
   "id": "dbdcbbe6",
   "metadata": {},
   "outputs": [
    {
     "name": "stdout",
     "output_type": "stream",
     "text": [
      "range panjang kata adalah : 51\n",
      "range jumlah kata alay adalah : 33\n",
      "range jumlah kata alay adalah : 23\n"
     ]
    }
   ],
   "source": [
    "range_total_word = df.total_length.max() - df.total_length.min()\n",
    "print(f'range panjang kata adalah : {range_total_word}')\n",
    "\n",
    "range_alay = df.length_alay.max() - df.length_alay.min()\n",
    "print(f'range jumlah kata alay adalah : {range_alay}')\n",
    "\n",
    "range_alay_uniq = df.length_alay_unique.max() - df.length_alay_unique.min()\n",
    "print(f'range jumlah kata alay adalah : {range_alay_uniq}')"
   ]
  },
  {
   "cell_type": "markdown",
   "id": "7612cb40",
   "metadata": {},
   "source": [
    "dari nilai descritive diatas dapat diketahui beberapa hal antara lain :\n",
    "- tidak semua baris memiliki kata alay\n",
    "- rata-rata kata alay yang muncul per baris adlah 3.98 kata alay, hal tersebut dapat diketahui dari nilai mean\n",
    "- ada kata alay dengan jumlah lebih dari 50% dari total kata, hal tersebut dapat diketahui dari nilai \"max\"\n",
    "- ada kemungkinan sebaran pada beberapa data yang tidak normal. kemungkinan ada kata alay yang terlalu sering muncul pada beberapa baris saja\n",
    "- berdasarkan korelasi dapat disimpulkan bahwa ada hubungan antara banyak kata dengan banyaknya kata alay yang digunakan oleh pengguna media sosial"
   ]
  },
  {
   "cell_type": "markdown",
   "id": "57fe56ad",
   "metadata": {},
   "source": [
    "## Visualisasi"
   ]
  },
  {
   "cell_type": "markdown",
   "id": "273e87ef",
   "metadata": {},
   "source": [
    "### Scatter Plot"
   ]
  },
  {
   "cell_type": "code",
   "execution_count": 323,
   "id": "7eb67d26",
   "metadata": {},
   "outputs": [
    {
     "data": {
      "image/png": "[encoded data removed]",
      "text/plain": [
       "<Figure size 640x480 with 1 Axes>"
      ]
     },
     "metadata": {},
     "output_type": "display_data"
    }
   ],
   "source": [
    "\n",
    "sns.set_style(\"darkgrid\")\n",
    "sns.scatterplot(data=df, x=\"total_length\", y=\"length_alay\")\n",
    "plt.title('Data panjang kata dan panjang kata alay')\n",
    "plt.show()"
   ]
  },
  {
   "cell_type": "code",
   "execution_count": 324,
   "id": "d417aa80",
   "metadata": {},
   "outputs": [
    {
     "data": {
      "image/png": "[encoded data removed]",
      "text/plain": [
       "<Figure size 640x480 with 1 Axes>"
      ]
     },
     "metadata": {},
     "output_type": "display_data"
    }
   ],
   "source": [
    "# membuat component figure dan axis\n",
    "fig, ax = plt.subplots()\n",
    "\n",
    "\n",
    "# memberikan data kedalam axis\n",
    "ax.scatter(df['total_length'], df['length_alay_unique'])\n",
    "plt.title('Data panjang kata dan panjang kata alay unik')\n",
    "plt.xlabel('panjang kata')\n",
    "plt.ylabel('jumlah kata alay unik')\n",
    "plt.show()"
   ]
  },
  {
   "cell_type": "code",
   "execution_count": 340,
   "id": "0c0cc2f3",
   "metadata": {},
   "outputs": [
    {
     "data": {
      "image/png": "[encoded data removed]",
      "text/plain": [
       "<Figure size 640x480 with 1 Axes>"
      ]
     },
     "metadata": {},
     "output_type": "display_data"
    }
   ],
   "source": [
    "\n",
    "\n",
    "sns.scatterplot(data=df, x=\"length_alay\", y=\"length_alay_unique\")\n",
    "plt.title('Korelasi panjang kata Alay dan panjang kata Alay yang Unik')\n",
    "plt.xlabel('panjang kata alay')\n",
    "plt.ylabel('jumlah kata alay unik')\n",
    "plt.show()"
   ]
  },
  {
   "cell_type": "markdown",
   "id": "2c434916",
   "metadata": {},
   "source": [
    "### Histogram"
   ]
  },
  {
   "cell_type": "code",
   "execution_count": 335,
   "id": "4569bece",
   "metadata": {},
   "outputs": [
    {
     "data": {
      "text/plain": [
       "Text(0.5, 1.0, 'Distribusi Panjang Kata')"
      ]
     },
     "execution_count": 335,
     "metadata": {},
     "output_type": "execute_result"
    },
    {
     "data": {
      "image/png": "[encoded data removed]",
      "text/plain": [
       "<Figure size 640x480 with 1 Axes>"
      ]
     },
     "metadata": {},
     "output_type": "display_data"
    }
   ],
   "source": [
    "\n",
    "sns.histplot(data=df, x=\"total_length\", kde=True, bins=25)\n",
    "plt.title('Distribusi Panjang Kata')"
   ]
  },
  {
   "cell_type": "code",
   "execution_count": 337,
   "id": "1e16e9ba",
   "metadata": {},
   "outputs": [
    {
     "data": {
      "text/plain": [
       "Text(0.5, 1.0, 'Distribusi Panjang Kata Alay')"
      ]
     },
     "execution_count": 337,
     "metadata": {},
     "output_type": "execute_result"
    },
    {
     "data": {
      "image/png": "[encoded data removed]",
      "text/plain": [
       "<Figure size 640x480 with 1 Axes>"
      ]
     },
     "metadata": {},
     "output_type": "display_data"
    }
   ],
   "source": [
    "sns.histplot(data=df, x=\"length_alay\", kde=True, bins=25)\n",
    "plt.title('Distribusi Panjang Kata Alay')"
   ]
  },
  {
   "cell_type": "code",
   "execution_count": 374,
   "id": "00ad1a1d",
   "metadata": {},
   "outputs": [
    {
     "data": {
      "image/png": "[encoded data removed]",
      "text/plain": [
       "<Figure size 640x480 with 1 Axes>"
      ]
     },
     "metadata": {},
     "output_type": "display_data"
    }
   ],
   "source": [
    "text_data_list = []\n",
    "for text_list in df['text_alay']:\n",
    "    data = ' '.join(text_list)\n",
    "    text_data_list.append(data)\n",
    "\n",
    "text = ' '.join(text_data_list)\n",
    "\n",
    "\n",
    "wordcloud = WordCloud().generate(text)\n",
    "\n",
    "# generate plot\n",
    "plt.imshow(wordcloud)\n",
    "plt.axis('off')\n",
    "plt.show()"
   ]
  },
  {
   "cell_type": "code",
   "execution_count": 390,
   "id": "43386f2b",
   "metadata": {},
   "outputs": [],
   "source": [
    "text_data_list = []\n",
    "for text_list in df['text_alay']:\n",
    "    for text in text_list:\n",
    "        text_data_list.append(text)\n"
   ]
  },
  {
   "cell_type": "code",
   "execution_count": 423,
   "id": "8f9e0dc3",
   "metadata": {},
   "outputs": [
    {
     "data": {
      "text/html": [
       "<div>\n",
       "<style scoped>\n",
       "    .dataframe tbody tr th:only-of-type {\n",
       "        vertical-align: middle;\n",
       "    }\n",
       "\n",
       "    .dataframe tbody tr th {\n",
       "        vertical-align: top;\n",
       "    }\n",
       "\n",
       "    .dataframe thead th {\n",
       "        text-align: right;\n",
       "    }\n",
       "</style>\n",
       "<table border=\"1\" class=\"dataframe\">\n",
       "  <thead>\n",
       "    <tr style=\"text-align: right;\">\n",
       "      <th></th>\n",
       "      <th>kata_alay</th>\n",
       "      <th>jumlah</th>\n",
       "    </tr>\n",
       "  </thead>\n",
       "  <tbody>\n",
       "    <tr>\n",
       "      <th>7095</th>\n",
       "      <td>user</td>\n",
       "      <td>15385</td>\n",
       "    </tr>\n",
       "    <tr>\n",
       "      <th>7389</th>\n",
       "      <td>yg</td>\n",
       "      <td>2913</td>\n",
       "    </tr>\n",
       "    <tr>\n",
       "      <th>7088</th>\n",
       "      <td>url</td>\n",
       "      <td>819</td>\n",
       "    </tr>\n",
       "    <tr>\n",
       "      <th>1987</th>\n",
       "      <td>gak</td>\n",
       "      <td>713</td>\n",
       "    </tr>\n",
       "    <tr>\n",
       "      <th>1958</th>\n",
       "      <td>ga</td>\n",
       "      <td>712</td>\n",
       "    </tr>\n",
       "    <tr>\n",
       "      <th>147</th>\n",
       "      <td>aja</td>\n",
       "      <td>657</td>\n",
       "    </tr>\n",
       "    <tr>\n",
       "      <th>2818</th>\n",
       "      <td>kalo</td>\n",
       "      <td>512</td>\n",
       "    </tr>\n",
       "    <tr>\n",
       "      <th>6206</th>\n",
       "      <td>si</td>\n",
       "      <td>444</td>\n",
       "    </tr>\n",
       "    <tr>\n",
       "      <th>3558</th>\n",
       "      <td>lu</td>\n",
       "      <td>420</td>\n",
       "    </tr>\n",
       "    <tr>\n",
       "      <th>7003</th>\n",
       "      <td>udah</td>\n",
       "      <td>377</td>\n",
       "    </tr>\n",
       "  </tbody>\n",
       "</table>\n",
       "</div>"
      ],
      "text/plain": [
       "     kata_alay  jumlah\n",
       "7095      user   15385\n",
       "7389        yg    2913\n",
       "7088       url     819\n",
       "1987       gak     713\n",
       "1958        ga     712\n",
       "147        aja     657\n",
       "2818      kalo     512\n",
       "6206        si     444\n",
       "3558        lu     420\n",
       "7003      udah     377"
      ]
     },
     "execution_count": 423,
     "metadata": {},
     "output_type": "execute_result"
    }
   ],
   "source": [
    "# Plot bar chart with data points\n",
    "keys, counts = np.unique(text_data_list, return_counts=True)\n",
    "\n",
    "# membuat dataframe untuk kata alay\n",
    "alay_dataframe = pd.DataFrame({'kata_alay': keys, 'jumlah': list(counts)}, columns=['kata_alay', 'jumlah'])\n",
    "# mengurutkan kata alay berdasarkan jumlah terbanyak\n",
    "data_for_plot = alay_dataframe.sort_values(by='jumlah', ascending=False).head(10)\n",
    "data_for_plot"
   ]
  },
  {
   "cell_type": "code",
   "execution_count": 422,
   "id": "e53e801b",
   "metadata": {},
   "outputs": [
    {
     "data": {
      "image/png": "[encoded data removed]",
      "text/plain": [
       "<Figure size 500x500 with 1 Axes>"
      ]
     },
     "metadata": {},
     "output_type": "display_data"
    }
   ],
   "source": [
    "sns.catplot(data=data_for_plot, x='kata_alay',  y='jumlah',kind='bar')\n",
    "plt.show()"
   ]
  },
  {
   "cell_type": "markdown",
   "id": "16f3a936",
   "metadata": {},
   "source": [
    "Berdasarkan hasil analisa berdasarkan descriptive maupun dengan visualisasi dapat disimpulkan beberapa hal sebagai berikut:\n",
    "- ada pengaruh penggunaan kata alay dengan banyaknya kata yang ditulis oleh pengguna media sosial. sehingga semakin banyak pengguna menulisakn kata maka akan semakin sering pengguna media sosial menggunakan kata alay yang bertujuan untuk menghemat waktu penulisan ataupun biar kelihatan kekinian.\n",
    "- kata alay yang dapat dikatakan paling sering digunakan adalah kata \"yg\" merujuk pada \"yang\", diikuti kata \"gak\" dan \"ga\" merujuk \"tidak\", \"aja\" merujuk \"aja\" dan \"kalo\" merujuk \"kalau\".\n",
    "- kata alay \"user\" dan \"url\" tidak saya kategorikan kata yang paling sering digunakan karena kata tersebut biasanya merupakan kata spam dan kata singkatan \n",
    "\n",
    "\n",
    "dari beberapa hasil analisa diatas maka pengguna media sosial di Inodonesia cenderung lebih sering menggunakan kata alay dalam penulisan text di platform media sosial hal tersebut dikarenakan penggunaan kata tersebut lebih ringkas daripada menggunakan bahasa indonesia yang baku sehingga mempercepat dalam penulisannya serta ada pengaruh istilah kekinian dalam bermedia sosial."
   ]
  },
  {
   "cell_type": "code",
   "execution_count": null,
   "id": "df5dfc2b",
   "metadata": {},
   "outputs": [],
   "source": []
  }
 ],
 "metadata": {
  "kernelspec": {
   "display_name": "Python 3 (ipykernel)",
   "language": "python",
   "name": "python3"
  },
  "language_info": {
   "codemirror_mode": {
    "name": "ipython",
    "version": 3
   },
   "file_extension": ".py",
   "mimetype": "text/x-python",
   "name": "python",
   "nbconvert_exporter": "python",
   "pygments_lexer": "ipython3",
   "version": "3.8.16"
  }
 },
 "nbformat": 4,
 "nbformat_minor": 5
}
