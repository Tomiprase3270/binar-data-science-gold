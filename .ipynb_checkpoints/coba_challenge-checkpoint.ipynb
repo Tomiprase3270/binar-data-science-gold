{
 "cells": [
  {
   "cell_type": "code",
   "execution_count": 187,
   "id": "eb632983",
   "metadata": {},
   "outputs": [],
   "source": [
    "import pandas as pd\n",
    "import re\n",
    "import string\n",
    "from num2words import num2words\n",
    "import csv\n",
    "import numpy as np"
   ]
  },
  {
   "cell_type": "code",
   "execution_count": 188,
   "id": "7ff059c7",
   "metadata": {
    "scrolled": true
   },
   "outputs": [
    {
     "data": {
      "text/html": [
       "<div>\n",
       "<style scoped>\n",
       "    .dataframe tbody tr th:only-of-type {\n",
       "        vertical-align: middle;\n",
       "    }\n",
       "\n",
       "    .dataframe tbody tr th {\n",
       "        vertical-align: top;\n",
       "    }\n",
       "\n",
       "    .dataframe thead th {\n",
       "        text-align: right;\n",
       "    }\n",
       "</style>\n",
       "<table border=\"1\" class=\"dataframe\">\n",
       "  <thead>\n",
       "    <tr style=\"text-align: right;\">\n",
       "      <th></th>\n",
       "      <th>text</th>\n",
       "      <th>HS</th>\n",
       "      <th>Abusive</th>\n",
       "      <th>HS_Individual</th>\n",
       "      <th>HS_Group</th>\n",
       "      <th>HS_Religion</th>\n",
       "      <th>HS_Race</th>\n",
       "      <th>HS_Physical</th>\n",
       "      <th>HS_Gender</th>\n",
       "      <th>HS_Other</th>\n",
       "      <th>HS_Weak</th>\n",
       "      <th>HS_Moderate</th>\n",
       "      <th>HS_Strong</th>\n",
       "    </tr>\n",
       "  </thead>\n",
       "  <tbody>\n",
       "    <tr>\n",
       "      <th>0</th>\n",
       "      <td>- disaat semua cowok berusaha melacak perhatia...</td>\n",
       "      <td>1</td>\n",
       "      <td>1</td>\n",
       "      <td>1</td>\n",
       "      <td>0</td>\n",
       "      <td>0</td>\n",
       "      <td>0</td>\n",
       "      <td>0</td>\n",
       "      <td>0</td>\n",
       "      <td>1</td>\n",
       "      <td>1</td>\n",
       "      <td>0</td>\n",
       "      <td>0</td>\n",
       "    </tr>\n",
       "    <tr>\n",
       "      <th>1</th>\n",
       "      <td>RT USER: USER siapa yang telat ngasih tau elu?...</td>\n",
       "      <td>0</td>\n",
       "      <td>1</td>\n",
       "      <td>0</td>\n",
       "      <td>0</td>\n",
       "      <td>0</td>\n",
       "      <td>0</td>\n",
       "      <td>0</td>\n",
       "      <td>0</td>\n",
       "      <td>0</td>\n",
       "      <td>0</td>\n",
       "      <td>0</td>\n",
       "      <td>0</td>\n",
       "    </tr>\n",
       "    <tr>\n",
       "      <th>2</th>\n",
       "      <td>41. Kadang aku berfikir, kenapa aku tetap perc...</td>\n",
       "      <td>0</td>\n",
       "      <td>0</td>\n",
       "      <td>0</td>\n",
       "      <td>0</td>\n",
       "      <td>0</td>\n",
       "      <td>0</td>\n",
       "      <td>0</td>\n",
       "      <td>0</td>\n",
       "      <td>0</td>\n",
       "      <td>0</td>\n",
       "      <td>0</td>\n",
       "      <td>0</td>\n",
       "    </tr>\n",
       "    <tr>\n",
       "      <th>3</th>\n",
       "      <td>USER USER AKU ITU AKU\\n\\nKU TAU MATAMU SIPIT T...</td>\n",
       "      <td>0</td>\n",
       "      <td>0</td>\n",
       "      <td>0</td>\n",
       "      <td>0</td>\n",
       "      <td>0</td>\n",
       "      <td>0</td>\n",
       "      <td>0</td>\n",
       "      <td>0</td>\n",
       "      <td>0</td>\n",
       "      <td>0</td>\n",
       "      <td>0</td>\n",
       "      <td>0</td>\n",
       "    </tr>\n",
       "    <tr>\n",
       "      <th>4</th>\n",
       "      <td>USER USER Kaum cebong kapir udah keliatan dong...</td>\n",
       "      <td>1</td>\n",
       "      <td>1</td>\n",
       "      <td>0</td>\n",
       "      <td>1</td>\n",
       "      <td>1</td>\n",
       "      <td>0</td>\n",
       "      <td>0</td>\n",
       "      <td>0</td>\n",
       "      <td>0</td>\n",
       "      <td>0</td>\n",
       "      <td>1</td>\n",
       "      <td>0</td>\n",
       "    </tr>\n",
       "  </tbody>\n",
       "</table>\n",
       "</div>"
      ],
      "text/plain": [
       "                                                text  HS  Abusive  \\\n",
       "0  - disaat semua cowok berusaha melacak perhatia...   1        1   \n",
       "1  RT USER: USER siapa yang telat ngasih tau elu?...   0        1   \n",
       "2  41. Kadang aku berfikir, kenapa aku tetap perc...   0        0   \n",
       "3  USER USER AKU ITU AKU\\n\\nKU TAU MATAMU SIPIT T...   0        0   \n",
       "4  USER USER Kaum cebong kapir udah keliatan dong...   1        1   \n",
       "\n",
       "   HS_Individual  HS_Group  HS_Religion  HS_Race  HS_Physical  HS_Gender  \\\n",
       "0              1         0            0        0            0          0   \n",
       "1              0         0            0        0            0          0   \n",
       "2              0         0            0        0            0          0   \n",
       "3              0         0            0        0            0          0   \n",
       "4              0         1            1        0            0          0   \n",
       "\n",
       "   HS_Other  HS_Weak  HS_Moderate  HS_Strong  \n",
       "0         1        1            0          0  \n",
       "1         0        0            0          0  \n",
       "2         0        0            0          0  \n",
       "3         0        0            0          0  \n",
       "4         0        0            1          0  "
      ]
     },
     "execution_count": 188,
     "metadata": {},
     "output_type": "execute_result"
    }
   ],
   "source": [
    "df = pd.read_csv('asset_challenge/data.csv', encoding=\"latin-1\")\n",
    "df.head()"
   ]
  },
  {
   "cell_type": "code",
   "execution_count": 189,
   "id": "209c3ae1",
   "metadata": {},
   "outputs": [
    {
     "data": {
      "text/html": [
       "<div>\n",
       "<style scoped>\n",
       "    .dataframe tbody tr th:only-of-type {\n",
       "        vertical-align: middle;\n",
       "    }\n",
       "\n",
       "    .dataframe tbody tr th {\n",
       "        vertical-align: top;\n",
       "    }\n",
       "\n",
       "    .dataframe thead th {\n",
       "        text-align: right;\n",
       "    }\n",
       "</style>\n",
       "<table border=\"1\" class=\"dataframe\">\n",
       "  <thead>\n",
       "    <tr style=\"text-align: right;\">\n",
       "      <th></th>\n",
       "      <th>text</th>\n",
       "    </tr>\n",
       "  </thead>\n",
       "  <tbody>\n",
       "    <tr>\n",
       "      <th>0</th>\n",
       "      <td>- disaat semua cowok berusaha melacak perhatia...</td>\n",
       "    </tr>\n",
       "    <tr>\n",
       "      <th>1</th>\n",
       "      <td>RT USER: USER siapa yang telat ngasih tau elu?...</td>\n",
       "    </tr>\n",
       "    <tr>\n",
       "      <th>2</th>\n",
       "      <td>41. Kadang aku berfikir, kenapa aku tetap perc...</td>\n",
       "    </tr>\n",
       "    <tr>\n",
       "      <th>3</th>\n",
       "      <td>USER USER AKU ITU AKU\\n\\nKU TAU MATAMU SIPIT T...</td>\n",
       "    </tr>\n",
       "    <tr>\n",
       "      <th>4</th>\n",
       "      <td>USER USER Kaum cebong kapir udah keliatan dong...</td>\n",
       "    </tr>\n",
       "    <tr>\n",
       "      <th>...</th>\n",
       "      <td>...</td>\n",
       "    </tr>\n",
       "    <tr>\n",
       "      <th>13164</th>\n",
       "      <td>USER jangan asal ngomong ndasmu. congor lu yg ...</td>\n",
       "    </tr>\n",
       "    <tr>\n",
       "      <th>13165</th>\n",
       "      <td>USER Kasur mana enak kunyuk'</td>\n",
       "    </tr>\n",
       "    <tr>\n",
       "      <th>13166</th>\n",
       "      <td>USER Hati hati bisu :( .g\\n\\nlagi bosan huft \\...</td>\n",
       "    </tr>\n",
       "    <tr>\n",
       "      <th>13167</th>\n",
       "      <td>USER USER USER USER Bom yang real mudah terdet...</td>\n",
       "    </tr>\n",
       "    <tr>\n",
       "      <th>13168</th>\n",
       "      <td>USER Mana situ ngasih(\": itu cuma foto ya kuti...</td>\n",
       "    </tr>\n",
       "  </tbody>\n",
       "</table>\n",
       "<p>13169 rows × 1 columns</p>\n",
       "</div>"
      ],
      "text/plain": [
       "                                                    text\n",
       "0      - disaat semua cowok berusaha melacak perhatia...\n",
       "1      RT USER: USER siapa yang telat ngasih tau elu?...\n",
       "2      41. Kadang aku berfikir, kenapa aku tetap perc...\n",
       "3      USER USER AKU ITU AKU\\n\\nKU TAU MATAMU SIPIT T...\n",
       "4      USER USER Kaum cebong kapir udah keliatan dong...\n",
       "...                                                  ...\n",
       "13164  USER jangan asal ngomong ndasmu. congor lu yg ...\n",
       "13165                       USER Kasur mana enak kunyuk'\n",
       "13166  USER Hati hati bisu :( .g\\n\\nlagi bosan huft \\...\n",
       "13167  USER USER USER USER Bom yang real mudah terdet...\n",
       "13168  USER Mana situ ngasih(\": itu cuma foto ya kuti...\n",
       "\n",
       "[13169 rows x 1 columns]"
      ]
     },
     "execution_count": 189,
     "metadata": {},
     "output_type": "execute_result"
    }
   ],
   "source": [
    "df = df[['text']]\n",
    "df"
   ]
  },
  {
   "cell_type": "code",
   "execution_count": 190,
   "id": "310b089f",
   "metadata": {},
   "outputs": [
    {
     "data": {
      "text/html": [
       "<div>\n",
       "<style scoped>\n",
       "    .dataframe tbody tr th:only-of-type {\n",
       "        vertical-align: middle;\n",
       "    }\n",
       "\n",
       "    .dataframe tbody tr th {\n",
       "        vertical-align: top;\n",
       "    }\n",
       "\n",
       "    .dataframe thead th {\n",
       "        text-align: right;\n",
       "    }\n",
       "</style>\n",
       "<table border=\"1\" class=\"dataframe\">\n",
       "  <thead>\n",
       "    <tr style=\"text-align: right;\">\n",
       "      <th></th>\n",
       "      <th>text</th>\n",
       "    </tr>\n",
       "  </thead>\n",
       "  <tbody>\n",
       "    <tr>\n",
       "      <th>146</th>\n",
       "      <td>USER USER KO GUA KAMPRET'</td>\n",
       "    </tr>\n",
       "  </tbody>\n",
       "</table>\n",
       "</div>"
      ],
      "text/plain": [
       "                          text\n",
       "146  USER USER KO GUA KAMPRET'"
      ]
     },
     "execution_count": 190,
     "metadata": {},
     "output_type": "execute_result"
    }
   ],
   "source": [
    "df_duplicated = df.loc[[df.duplicated().sum()]]\n",
    "df_duplicated"
   ]
  },
  {
   "cell_type": "code",
   "execution_count": 170,
   "id": "bb55a466",
   "metadata": {},
   "outputs": [
    {
     "data": {
      "text/html": [
       "<div>\n",
       "<style scoped>\n",
       "    .dataframe tbody tr th:only-of-type {\n",
       "        vertical-align: middle;\n",
       "    }\n",
       "\n",
       "    .dataframe tbody tr th {\n",
       "        vertical-align: top;\n",
       "    }\n",
       "\n",
       "    .dataframe thead th {\n",
       "        text-align: right;\n",
       "    }\n",
       "</style>\n",
       "<table border=\"1\" class=\"dataframe\">\n",
       "  <thead>\n",
       "    <tr style=\"text-align: right;\">\n",
       "      <th></th>\n",
       "      <th>text</th>\n",
       "    </tr>\n",
       "  </thead>\n",
       "  <tbody>\n",
       "    <tr>\n",
       "      <th>295</th>\n",
       "      <td>#GubernurZamanNow #GusIpulPuti2 #GanjarYasin1 ...</td>\n",
       "    </tr>\n",
       "    <tr>\n",
       "      <th>378</th>\n",
       "      <td>#GubernurZamanNow #GusIpulPuti2 #GanjarYasin1 ...</td>\n",
       "    </tr>\n",
       "    <tr>\n",
       "      <th>1433</th>\n",
       "      <td>perempuan kaya lo mending mati aja deh, jelek ...</td>\n",
       "    </tr>\n",
       "    <tr>\n",
       "      <th>1559</th>\n",
       "      <td>Presiden yang anda tuduh Rezim anti Islam suda...</td>\n",
       "    </tr>\n",
       "    <tr>\n",
       "      <th>1565</th>\n",
       "      <td>USER USER USER USER USER USER USER USER USER U...</td>\n",
       "    </tr>\n",
       "    <tr>\n",
       "      <th>...</th>\n",
       "      <td>...</td>\n",
       "    </tr>\n",
       "    <tr>\n",
       "      <th>12933</th>\n",
       "      <td>RT USER: USER Heran juga saya, setan iblis pad...</td>\n",
       "    </tr>\n",
       "    <tr>\n",
       "      <th>12952</th>\n",
       "      <td>USER USER USER USER USER USER USER USER USER U...</td>\n",
       "    </tr>\n",
       "    <tr>\n",
       "      <th>12953</th>\n",
       "      <td>SETUJU SAYA,KLAU AHOK DAPAT GELAR SANTRI KEHOR...</td>\n",
       "    </tr>\n",
       "    <tr>\n",
       "      <th>12985</th>\n",
       "      <td>USER ahmad dhani yang terhormat paling babi pa...</td>\n",
       "    </tr>\n",
       "    <tr>\n",
       "      <th>13075</th>\n",
       "      <td>*Bravoo Presiden Jokowi !ð???* Presiden Joko W...</td>\n",
       "    </tr>\n",
       "  </tbody>\n",
       "</table>\n",
       "<p>146 rows × 1 columns</p>\n",
       "</div>"
      ],
      "text/plain": [
       "                                                    text\n",
       "295    #GubernurZamanNow #GusIpulPuti2 #GanjarYasin1 ...\n",
       "378    #GubernurZamanNow #GusIpulPuti2 #GanjarYasin1 ...\n",
       "1433   perempuan kaya lo mending mati aja deh, jelek ...\n",
       "1559   Presiden yang anda tuduh Rezim anti Islam suda...\n",
       "1565   USER USER USER USER USER USER USER USER USER U...\n",
       "...                                                  ...\n",
       "12933  RT USER: USER Heran juga saya, setan iblis pad...\n",
       "12952  USER USER USER USER USER USER USER USER USER U...\n",
       "12953  SETUJU SAYA,KLAU AHOK DAPAT GELAR SANTRI KEHOR...\n",
       "12985  USER ahmad dhani yang terhormat paling babi pa...\n",
       "13075  *Bravoo Presiden Jokowi !ð???* Presiden Joko W...\n",
       "\n",
       "[146 rows x 1 columns]"
      ]
     },
     "execution_count": 170,
     "metadata": {},
     "output_type": "execute_result"
    }
   ],
   "source": [
    "# melihat baris yang ter duplicate\n",
    "df[df.duplicated()]"
   ]
  },
  {
   "cell_type": "code",
   "execution_count": 171,
   "id": "0180b804",
   "metadata": {},
   "outputs": [
    {
     "data": {
      "text/plain": [
       "(13169, 1)"
      ]
     },
     "execution_count": 171,
     "metadata": {},
     "output_type": "execute_result"
    }
   ],
   "source": [
    "# shape sebelum di drop duplicate\n",
    "df.shape"
   ]
  },
  {
   "cell_type": "code",
   "execution_count": 172,
   "id": "e8bd2edc",
   "metadata": {},
   "outputs": [],
   "source": [
    "# drop duplicates\n",
    "df = df.drop_duplicates()"
   ]
  },
  {
   "cell_type": "code",
   "execution_count": 173,
   "id": "2dc1fff4",
   "metadata": {},
   "outputs": [
    {
     "data": {
      "text/plain": [
       "(13023, 1)"
      ]
     },
     "execution_count": 173,
     "metadata": {},
     "output_type": "execute_result"
    }
   ],
   "source": [
    "# shape setelah di drop\n",
    "df.shape"
   ]
  },
  {
   "cell_type": "code",
   "execution_count": 175,
   "id": "30c4b5b2",
   "metadata": {},
   "outputs": [
    {
     "data": {
      "text/plain": [
       "'#MukidiKepedean ; Pertanyaan mudah ya..; Dijawab yg keras , tapi Saya minta dijawab yg keras , siapa nama Saya ?'"
      ]
     },
     "execution_count": 175,
     "metadata": {},
     "output_type": "execute_result"
    }
   ],
   "source": [
    "df[\"text\"][183]"
   ]
  },
  {
   "cell_type": "markdown",
   "id": "47610042",
   "metadata": {},
   "source": [
    "## merubah menjadi lower text"
   ]
  },
  {
   "cell_type": "code",
   "execution_count": 164,
   "id": "727f46c9",
   "metadata": {},
   "outputs": [
    {
     "name": "stderr",
     "output_type": "stream",
     "text": [
      "C:\\Users\\LENOVO\\AppData\\Local\\Temp\\ipykernel_1236\\2714342384.py:7: SettingWithCopyWarning: \n",
      "A value is trying to be set on a copy of a slice from a DataFrame.\n",
      "Try using .loc[row_indexer,col_indexer] = value instead\n",
      "\n",
      "See the caveats in the documentation: https://pandas.pydata.org/pandas-docs/stable/user_guide/indexing.html#returning-a-view-versus-a-copy\n",
      "  df['text_lower'] = df['text'].apply(lambda x: ' '.join([clean_text(word) for word in x.split()]))\n",
      "C:\\Users\\LENOVO\\AppData\\Local\\Temp\\ipykernel_1236\\2714342384.py:8: SettingWithCopyWarning: \n",
      "A value is trying to be set on a copy of a slice from a DataFrame\n",
      "\n",
      "See the caveats in the documentation: https://pandas.pydata.org/pandas-docs/stable/user_guide/indexing.html#returning-a-view-versus-a-copy\n",
      "  df.drop('text', axis=1, inplace=True)\n"
     ]
    },
    {
     "data": {
      "text/html": [
       "<div>\n",
       "<style scoped>\n",
       "    .dataframe tbody tr th:only-of-type {\n",
       "        vertical-align: middle;\n",
       "    }\n",
       "\n",
       "    .dataframe tbody tr th {\n",
       "        vertical-align: top;\n",
       "    }\n",
       "\n",
       "    .dataframe thead th {\n",
       "        text-align: right;\n",
       "    }\n",
       "</style>\n",
       "<table border=\"1\" class=\"dataframe\">\n",
       "  <thead>\n",
       "    <tr style=\"text-align: right;\">\n",
       "      <th></th>\n",
       "      <th>text_lower</th>\n",
       "    </tr>\n",
       "  </thead>\n",
       "  <tbody>\n",
       "    <tr>\n",
       "      <th>0</th>\n",
       "      <td>- disaat semua cowok berusaha melacak perhatia...</td>\n",
       "    </tr>\n",
       "    <tr>\n",
       "      <th>1</th>\n",
       "      <td>rt user: user siapa yang telat ngasih tau elu?...</td>\n",
       "    </tr>\n",
       "    <tr>\n",
       "      <th>2</th>\n",
       "      <td>41. kadang aku berfikir, kenapa aku tetap perc...</td>\n",
       "    </tr>\n",
       "    <tr>\n",
       "      <th>3</th>\n",
       "      <td>user user aku itu aku\\n\\nku tau matamu sipit t...</td>\n",
       "    </tr>\n",
       "    <tr>\n",
       "      <th>4</th>\n",
       "      <td>user user kaum cebong kapir udah keliatan dong...</td>\n",
       "    </tr>\n",
       "    <tr>\n",
       "      <th>...</th>\n",
       "      <td>...</td>\n",
       "    </tr>\n",
       "    <tr>\n",
       "      <th>13164</th>\n",
       "      <td>user jangan asal ngomong ndasmu. congor lu yg ...</td>\n",
       "    </tr>\n",
       "    <tr>\n",
       "      <th>13165</th>\n",
       "      <td>user kasur mana enak kunyuk'</td>\n",
       "    </tr>\n",
       "    <tr>\n",
       "      <th>13166</th>\n",
       "      <td>user hati hati bisu :( .g\\n\\nlagi bosan huft \\...</td>\n",
       "    </tr>\n",
       "    <tr>\n",
       "      <th>13167</th>\n",
       "      <td>user user user user bom yang real mudah terdet...</td>\n",
       "    </tr>\n",
       "    <tr>\n",
       "      <th>13168</th>\n",
       "      <td>user mana situ ngasih(\": itu cuma foto ya kuti...</td>\n",
       "    </tr>\n",
       "  </tbody>\n",
       "</table>\n",
       "<p>13023 rows × 1 columns</p>\n",
       "</div>"
      ],
      "text/plain": [
       "                                              text_lower\n",
       "0      - disaat semua cowok berusaha melacak perhatia...\n",
       "1      rt user: user siapa yang telat ngasih tau elu?...\n",
       "2      41. kadang aku berfikir, kenapa aku tetap perc...\n",
       "3      user user aku itu aku\\n\\nku tau matamu sipit t...\n",
       "4      user user kaum cebong kapir udah keliatan dong...\n",
       "...                                                  ...\n",
       "13164  user jangan asal ngomong ndasmu. congor lu yg ...\n",
       "13165                       user kasur mana enak kunyuk'\n",
       "13166  user hati hati bisu :( .g\\n\\nlagi bosan huft \\...\n",
       "13167  user user user user bom yang real mudah terdet...\n",
       "13168  user mana situ ngasih(\": itu cuma foto ya kuti...\n",
       "\n",
       "[13023 rows x 1 columns]"
      ]
     },
     "execution_count": 164,
     "metadata": {},
     "output_type": "execute_result"
    }
   ],
   "source": [
    "# merubah kalimat menjadi huruf kecil\n",
    "\n",
    "def clean_text(text):\n",
    "  text = text.lower()\n",
    "  return text\n",
    "\n",
    "df['text_lower'] = df['text'].apply(lambda x: ' '.join([clean_text(word) for word in x.split()]))\n",
    "df.drop('text', axis=1, inplace=True)\n",
    "df"
   ]
  },
  {
   "cell_type": "code",
   "execution_count": 140,
   "id": "5682ebeb",
   "metadata": {},
   "outputs": [
    {
     "data": {
      "text/plain": [
       "\"rt user: user siapa yang telat ngasih tau elu?edan sarap gue bergaul dengan cigax jifla calis sama siapa noh licew juga'\""
      ]
     },
     "execution_count": 140,
     "metadata": {},
     "output_type": "execute_result"
    }
   ],
   "source": [
    "df['text_lower'][1]"
   ]
  },
  {
   "cell_type": "code",
   "execution_count": 141,
   "id": "7ab0eca7",
   "metadata": {},
   "outputs": [
    {
     "name": "stderr",
     "output_type": "stream",
     "text": [
      "C:\\Users\\LENOVO\\AppData\\Local\\Temp\\ipykernel_1236\\108963671.py:24: SettingWithCopyWarning: \n",
      "A value is trying to be set on a copy of a slice from a DataFrame.\n",
      "Try using .loc[row_indexer,col_indexer] = value instead\n",
      "\n",
      "See the caveats in the documentation: https://pandas.pydata.org/pandas-docs/stable/user_guide/indexing.html#returning-a-view-versus-a-copy\n",
      "  df['text_clean'] = df['text_lower'].apply(lambda x: ' '.join([re.sub('(\\d{4})', lambda m: num2words(int(m.group()), lang='id'), word) for word in x.split()]))\n",
      "C:\\Users\\LENOVO\\AppData\\Local\\Temp\\ipykernel_1236\\108963671.py:28: SettingWithCopyWarning: \n",
      "A value is trying to be set on a copy of a slice from a DataFrame.\n",
      "Try using .loc[row_indexer,col_indexer] = value instead\n",
      "\n",
      "See the caveats in the documentation: https://pandas.pydata.org/pandas-docs/stable/user_guide/indexing.html#returning-a-view-versus-a-copy\n",
      "  df['text_clean'] = df['text_lower'].apply(lambda x: remove_unnecessary_char(x))\n",
      "C:\\Users\\LENOVO\\AppData\\Local\\Temp\\ipykernel_1236\\108963671.py:32: SettingWithCopyWarning: \n",
      "A value is trying to be set on a copy of a slice from a DataFrame\n",
      "\n",
      "See the caveats in the documentation: https://pandas.pydata.org/pandas-docs/stable/user_guide/indexing.html#returning-a-view-versus-a-copy\n",
      "  df.drop('text_lower', axis=1, inplace=True)\n"
     ]
    },
    {
     "data": {
      "text/html": [
       "<div>\n",
       "<style scoped>\n",
       "    .dataframe tbody tr th:only-of-type {\n",
       "        vertical-align: middle;\n",
       "    }\n",
       "\n",
       "    .dataframe tbody tr th {\n",
       "        vertical-align: top;\n",
       "    }\n",
       "\n",
       "    .dataframe thead th {\n",
       "        text-align: right;\n",
       "    }\n",
       "</style>\n",
       "<table border=\"1\" class=\"dataframe\">\n",
       "  <thead>\n",
       "    <tr style=\"text-align: right;\">\n",
       "      <th></th>\n",
       "      <th>text_clean</th>\n",
       "    </tr>\n",
       "  </thead>\n",
       "  <tbody>\n",
       "    <tr>\n",
       "      <th>0</th>\n",
       "      <td>disaat semua cowok berusaha melacak perhatian ...</td>\n",
       "    </tr>\n",
       "    <tr>\n",
       "      <th>1</th>\n",
       "      <td>siapa yang telat ngasih tau elu edan sarap gue...</td>\n",
       "    </tr>\n",
       "    <tr>\n",
       "      <th>2</th>\n",
       "      <td>kadang aku berfikir kenapa aku tetap percaya p...</td>\n",
       "    </tr>\n",
       "    <tr>\n",
       "      <th>3</th>\n",
       "      <td>aku itu aku ku tau matamu sipit tapi diliat da...</td>\n",
       "    </tr>\n",
       "    <tr>\n",
       "      <th>4</th>\n",
       "      <td>kaum cebong kapir udah keliatan dongoknya dari...</td>\n",
       "    </tr>\n",
       "    <tr>\n",
       "      <th>...</th>\n",
       "      <td>...</td>\n",
       "    </tr>\n",
       "    <tr>\n",
       "      <th>13164</th>\n",
       "      <td>jangan asal ngomong ndasmu congor lu yg anjyng</td>\n",
       "    </tr>\n",
       "    <tr>\n",
       "      <th>13165</th>\n",
       "      <td>kasur mana enak kunyuk</td>\n",
       "    </tr>\n",
       "    <tr>\n",
       "      <th>13166</th>\n",
       "      <td>hati hati bisu g lagi bosan huft</td>\n",
       "    </tr>\n",
       "    <tr>\n",
       "      <th>13167</th>\n",
       "      <td>bom yang real mudah terdeteksi bom yang terkub...</td>\n",
       "    </tr>\n",
       "    <tr>\n",
       "      <th>13168</th>\n",
       "      <td>mana situ ngasih itu cuma foto ya kutil onta</td>\n",
       "    </tr>\n",
       "  </tbody>\n",
       "</table>\n",
       "<p>13023 rows × 1 columns</p>\n",
       "</div>"
      ],
      "text/plain": [
       "                                              text_clean\n",
       "0      disaat semua cowok berusaha melacak perhatian ...\n",
       "1      siapa yang telat ngasih tau elu edan sarap gue...\n",
       "2      kadang aku berfikir kenapa aku tetap percaya p...\n",
       "3      aku itu aku ku tau matamu sipit tapi diliat da...\n",
       "4      kaum cebong kapir udah keliatan dongoknya dari...\n",
       "...                                                  ...\n",
       "13164     jangan asal ngomong ndasmu congor lu yg anjyng\n",
       "13165                             kasur mana enak kunyuk\n",
       "13166                   hati hati bisu g lagi bosan huft\n",
       "13167  bom yang real mudah terdeteksi bom yang terkub...\n",
       "13168       mana situ ngasih itu cuma foto ya kutil onta\n",
       "\n",
       "[13023 rows x 1 columns]"
      ]
     },
     "execution_count": 141,
     "metadata": {},
     "output_type": "execute_result"
    }
   ],
   "source": [
    "def remove_unnecessary_char(text):\n",
    "    text = re.sub(r'\\\\+n', ' ', text)\n",
    "    text = re.sub(r'\\n',\" \",text) # Remove every '\\n'\n",
    "    text = re.sub('\\w*\\d\\w*', '', text) #remove number \n",
    "    text = re.sub(r'^rt',' ',text) # Remove every retweet symbol\n",
    "    text = re.sub(r'user',' ',text) # Remove every username\n",
    "    text = re.sub(r'((www\\.[^\\s]+)|(https?://[^\\s]+)|(http?://[^\\s]+))',' ',text) # Remove every URL\n",
    "    text = re.sub(r'&', 'dan', text) #remove ampersant\n",
    "    text = re.sub(r'&amp;', 'dan', text) #remove ampersant\n",
    "    text = re.sub(r'\\\\x.{2}', ' ', text) # remove emoji\n",
    "    text = re.sub(r'\\+62\\d{2,}', '', text) #remove phone number +6282xxxxxxxxx\n",
    "    text = re.sub('[\\+\\d{5}\\-\\d{4}\\-\\d{4}]', '', text) #remove phone number +628xx-xxxx-xxxx\n",
    "    text = re.sub(r'%', 'persen', text) #change % to persen\n",
    "    text = re.sub('[%s]' % re.escape(string.punctuation), ' ', text) #remove punctuation \n",
    "    text = re.sub(r'  +', ' ', text) # Remove extra spaces\n",
    "    text = text.rstrip().lstrip() #remove rstrip and lstrip\n",
    "    \n",
    "    return text\n",
    "\n",
    "\n",
    "\n",
    "\n",
    "# change number to text with 4 number\n",
    "df['text_clean'] = df['text_lower'].apply(lambda x: ' '.join([re.sub('(\\d{4})', lambda m: num2words(int(m.group()), lang='id'), word) for word in x.split()]))\n",
    "\n",
    "\n",
    "# implement remove_unnecessary_char function\n",
    "df['text_clean'] = df['text_lower'].apply(lambda x: remove_unnecessary_char(x))\n",
    "\n",
    "\n",
    "# drop text lower column\n",
    "df.drop('text_lower', axis=1, inplace=True)\n",
    "\n",
    "df"
   ]
  },
  {
   "cell_type": "code",
   "execution_count": 142,
   "id": "f8160b8d",
   "metadata": {},
   "outputs": [
    {
     "data": {
      "text/plain": [
       "'siapa yang telat ngasih tau elu edan sarap gue bergaul dengan cigax jifla calis sama siapa noh licew juga'"
      ]
     },
     "execution_count": 142,
     "metadata": {},
     "output_type": "execute_result"
    }
   ],
   "source": [
    "df['text_clean'][1]"
   ]
  },
  {
   "cell_type": "code",
   "execution_count": 143,
   "id": "74af0034",
   "metadata": {},
   "outputs": [
    {
     "name": "stderr",
     "output_type": "stream",
     "text": [
      "C:\\Users\\LENOVO\\AppData\\Local\\Temp\\ipykernel_1236\\921553071.py:44: SettingWithCopyWarning: \n",
      "A value is trying to be set on a copy of a slice from a DataFrame.\n",
      "Try using .loc[row_indexer,col_indexer] = value instead\n",
      "\n",
      "See the caveats in the documentation: https://pandas.pydata.org/pandas-docs/stable/user_guide/indexing.html#returning-a-view-versus-a-copy\n",
      "  df['Tweet'] = df['text_clean'].apply(lambda x: change_from_kamusalay(x))\n",
      "C:\\Users\\LENOVO\\AppData\\Local\\Temp\\ipykernel_1236\\921553071.py:47: SettingWithCopyWarning: \n",
      "A value is trying to be set on a copy of a slice from a DataFrame\n",
      "\n",
      "See the caveats in the documentation: https://pandas.pydata.org/pandas-docs/stable/user_guide/indexing.html#returning-a-view-versus-a-copy\n",
      "  df.drop('text_clean', axis=1, inplace=True)\n"
     ]
    },
    {
     "data": {
      "text/html": [
       "<div>\n",
       "<style scoped>\n",
       "    .dataframe tbody tr th:only-of-type {\n",
       "        vertical-align: middle;\n",
       "    }\n",
       "\n",
       "    .dataframe tbody tr th {\n",
       "        vertical-align: top;\n",
       "    }\n",
       "\n",
       "    .dataframe thead th {\n",
       "        text-align: right;\n",
       "    }\n",
       "</style>\n",
       "<table border=\"1\" class=\"dataframe\">\n",
       "  <thead>\n",
       "    <tr style=\"text-align: right;\">\n",
       "      <th></th>\n",
       "      <th>Tweet</th>\n",
       "    </tr>\n",
       "  </thead>\n",
       "  <tbody>\n",
       "    <tr>\n",
       "      <th>0</th>\n",
       "      <td>di saat semua cowok berusaha melacak perhatian...</td>\n",
       "    </tr>\n",
       "    <tr>\n",
       "      <th>1</th>\n",
       "      <td>siapa yang telat memberi tau kamu edan sarap g...</td>\n",
       "    </tr>\n",
       "    <tr>\n",
       "      <th>2</th>\n",
       "      <td>kadang aku berpikir kenapa aku tetap percaya p...</td>\n",
       "    </tr>\n",
       "    <tr>\n",
       "      <th>3</th>\n",
       "      <td>aku itu aku ku tau matamu sipit tapi dilihat d...</td>\n",
       "    </tr>\n",
       "    <tr>\n",
       "      <th>4</th>\n",
       "      <td>kaum cebong kafir sudah kelihatan dongoknya da...</td>\n",
       "    </tr>\n",
       "    <tr>\n",
       "      <th>...</th>\n",
       "      <td>...</td>\n",
       "    </tr>\n",
       "    <tr>\n",
       "      <th>13164</th>\n",
       "      <td>jangan asal berbicara ndasmu congor kamu yang ...</td>\n",
       "    </tr>\n",
       "    <tr>\n",
       "      <th>13165</th>\n",
       "      <td>kasur mana enak kunyuk</td>\n",
       "    </tr>\n",
       "    <tr>\n",
       "      <th>13166</th>\n",
       "      <td>hati hati bisu tidak lagi bosan duh</td>\n",
       "    </tr>\n",
       "    <tr>\n",
       "      <th>13167</th>\n",
       "      <td>bom yang real mudah terdeteksi bom yang terkub...</td>\n",
       "    </tr>\n",
       "    <tr>\n",
       "      <th>13168</th>\n",
       "      <td>mana situ memberi itu cuma foto ya kutil onta</td>\n",
       "    </tr>\n",
       "  </tbody>\n",
       "</table>\n",
       "<p>13023 rows × 1 columns</p>\n",
       "</div>"
      ],
      "text/plain": [
       "                                                   Tweet\n",
       "0      di saat semua cowok berusaha melacak perhatian...\n",
       "1      siapa yang telat memberi tau kamu edan sarap g...\n",
       "2      kadang aku berpikir kenapa aku tetap percaya p...\n",
       "3      aku itu aku ku tau matamu sipit tapi dilihat d...\n",
       "4      kaum cebong kafir sudah kelihatan dongoknya da...\n",
       "...                                                  ...\n",
       "13164  jangan asal berbicara ndasmu congor kamu yang ...\n",
       "13165                             kasur mana enak kunyuk\n",
       "13166                hati hati bisu tidak lagi bosan duh\n",
       "13167  bom yang real mudah terdeteksi bom yang terkub...\n",
       "13168      mana situ memberi itu cuma foto ya kutil onta\n",
       "\n",
       "[13023 rows x 1 columns]"
      ]
     },
     "execution_count": 143,
     "metadata": {},
     "output_type": "execute_result"
    }
   ],
   "source": [
    "\n",
    "# kamusalay function\n",
    "# def change_from_kamusalay(text):\n",
    "\n",
    "#     df_kamusalay = pd.read_csv('asset_challenge/new_kamusalay.csv', encoding='latin-1', names=['find', 'replace'])\n",
    "#     if df_kamusalay.index[df_kamusalay['find'] == text].tolist() != []:\n",
    "#         find_word_index = df_kamusalay.index[df_kamusalay['find'] == text].tolist()\n",
    "#         text = df_kamusalay['replace'][find_word_index[0]]\n",
    "#         return text\n",
    "#     else:\n",
    "#         return text\n",
    "\n",
    "# df['text_clean_kamusalay'] = df['text_clean'].apply(lambda x: ' '.join([change_from_kamusalay(word) for word in x.split()]))\n",
    "\n",
    "\n",
    "\n",
    "# def change_from_kamusalay(text):\n",
    "#     array = np.where(df_kamusalay['find'] == text)\n",
    "#     index = array[0]\n",
    "#     if index.size > 0:\n",
    "#         text = df_kamusalay['replace'][array[0][0]]\n",
    "#     return text\n",
    "\n",
    "# df['text_clean_kamusalay'] = df['text_clean'].apply(lambda x: ' '.join([change_from_kamusalay(word) for word in x.split()]))\n",
    "# df\n",
    "\n",
    "\n",
    "\n",
    "\n",
    "\n",
    "df_kamusalay = pd.read_csv('asset_challenge/new_kamusalay.csv', encoding='latin-1', names=['find', 'replace'])\n",
    "\n",
    "\n",
    "kamusalay_mapping = dict(zip(df_kamusalay['find'], df_kamusalay['replace'])) # Mapping for kamusalay\n",
    "\n",
    "\n",
    "def change_from_kamusalay(text): # Cleaning by replacing 'alay' words\n",
    "    wordlist = text.split()\n",
    "    text_alay = ' '.join([kamusalay_mapping.get(x,x) for x in wordlist])\n",
    "#     clean_alay = ' '.join(text_alay)\n",
    "    return text_alay\n",
    "\n",
    "\n",
    "\n",
    "df['Tweet'] = df['text_clean'].apply(lambda x: change_from_kamusalay(x))\n",
    "\n",
    "# drop text clean column\n",
    "df.drop('text_clean', axis=1, inplace=True)\n",
    "df"
   ]
  },
  {
   "cell_type": "code",
   "execution_count": 336,
   "id": "51093523",
   "metadata": {},
   "outputs": [],
   "source": [
    "# # convert text with kamus alay\n",
    "\n",
    "# with open('asset_challenge/new_kamusalay.csv', newline='') as c:\n",
    "#     fieldnames = ['find', 'replace']\n",
    "#     reader = csv.DictReader(c, delimiter=',', fieldnames=fieldnames)\n",
    "#     D = {}\n",
    "#     for row in reader:\n",
    "#         D[row['find']] = row['replace']\n",
    "# #     with open('input.txt', newline='') as infile:\n",
    "# #         with open('output.txt', 'w') as outfile:\n",
    "# #             for line in infile:\n",
    "# #                 tokens = line.split()\n",
    "# #                 for i, t in enumerate(tokens):\n",
    "# #                     if t in D:\n",
    "# #                         tokens[i] = D[t]\n",
    "# #                 outfile.write(' '.join(tokens)+'\\n')\n"
   ]
  },
  {
   "cell_type": "code",
   "execution_count": 337,
   "id": "b7fc9326",
   "metadata": {},
   "outputs": [],
   "source": [
    "# text = [\"PILKADA 2018 DAMAI PELAJAR SMA KEC BILAH HILIR DEKLARASI ANTI HOAX &amp; \",\n",
    "#        \"41 Kadang aku berfikir, kenapa aku tetap percaya pada Tuhan padahal aku selalu jatuh berkali-kali.\"]\n",
    "\n",
    "# data = pd.DataFrame(text)\n",
    "# data\n",
    "\n",
    "\n",
    "# # change number to word\n",
    "# def conv_num(match):\n",
    "#     match=match\n",
    "#     return num2words(int(match.group()), lang='id')\n",
    "\n",
    "\n",
    "\n",
    "# def numbers_to_words(text):\n",
    "#     pattern = re.compile('\\d{4}')\n",
    "#     return re.sub(pattern, conv_num, text)\n",
    "\n",
    "# # # output_string = [re.sub('(\\d+)', lambda m: num2words(m.group()), sentence) for sentence in list_string]\n",
    "# # # output_string = [re.sub('(\\d+)', lambda m: ]\n",
    "\n",
    "\n",
    "\n",
    "# # # def number_to_string(sentence):\n",
    "# # #     output_string = re.sub('(\\d+)', int(num2words(sentence.group(), lang='id')), sentence) \n",
    "# # #     return output_string\n",
    "    \n",
    "    \n",
    "# data = data[0].apply(lambda x: ' '.join([re.sub('(\\d+)', lambda m: num2words(int(m.group()), lang='id'), word) for word in x.split()]))\n",
    "# data"
   ]
  },
  {
   "cell_type": "code",
   "execution_count": 338,
   "id": "2355f5b5",
   "metadata": {},
   "outputs": [],
   "source": [
    "# def clean_text(text):\n",
    "#   text = re.sub('\\w*\\d\\w*', '', text)                                              #menghilangkan kalimat yang mengandung angka      \n",
    "#   text = re.sub('[\\r\\n]', '', text)                                                #menghilangkan karakter tidak bermakna\n",
    "#   text = re.sub(r'^https?:\\/\\/.*[\\r\\n]*', '', text, flags=re.MULTILINE)            #menghilangkan link dalam teks\n",
    "#   text = re.sub('@', '', text)                                                     #menghilangkan simbol lain dalam teks\n",
    "#   text = re.sub('[%s]' % re.escape(string.punctuation), '', text)                  #menghilangkan tanda baca                                                  \n",
    "#   text\n",
    "#   return text\n",
    "\n",
    "# df['text_clean'] = df['text_lower'].apply(lambda x: ' '.join([clean_text(word) for word in x.split()]))\n",
    "# df.drop('text_lower', axis=1, inplace=True)\n",
    "\n",
    "# df"
   ]
  },
  {
   "cell_type": "markdown",
   "id": "7ff2b977",
   "metadata": {},
   "source": [
    "- menghilangkan &, &amp; , Q&amp;A\n",
    "- merubah % menjadi persen\n",
    "- merubah angka menjadi huruf\n",
    "- merubah kata-kata double menjadi huruf, misalnya kadang2, pagi2 menjadi kadang kadang pagi pagi\n",
    "- \n"
   ]
  },
  {
   "cell_type": "code",
   "execution_count": 134,
   "id": "ca245e9a",
   "metadata": {},
   "outputs": [
    {
     "data": {
      "text/plain": [
       "<_io.TextIOWrapper name='asset_challenge/new_kamusalay.csv' mode='r' encoding='cp1252'>"
      ]
     },
     "execution_count": 134,
     "metadata": {},
     "output_type": "execute_result"
    }
   ],
   "source": [
    "text = open(\"asset_challenge/new_kamusalay.csv\", \"r\")\n",
    "text"
   ]
  },
  {
   "cell_type": "code",
   "execution_count": null,
   "id": "46a50787",
   "metadata": {},
   "outputs": [],
   "source": []
  },
  {
   "cell_type": "code",
   "execution_count": 168,
   "id": "93da5511",
   "metadata": {},
   "outputs": [
    {
     "name": "stdout",
     "output_type": "stream",
     "text": [
      "PILKADA  DAMAI PELAJAR SMA KEC BILAH HILIR DEKLARASI ANTI HOAX &amp;\n"
     ]
    }
   ],
   "source": [
    "text = \"PILKADA 2018 DAMAI PELAJAR SMA KEC BILAH HILIR DEKLARASI ANTI HOAX &amp;\"\n",
    "text = re.sub('\\w*\\d\\w*', '', text) #remove number \n",
    "print(text)"
   ]
  },
  {
   "cell_type": "code",
   "execution_count": null,
   "id": "6c3cf73f",
   "metadata": {},
   "outputs": [],
   "source": []
  },
  {
   "cell_type": "code",
   "execution_count": null,
   "id": "02f3db85",
   "metadata": {},
   "outputs": [],
   "source": []
  },
  {
   "cell_type": "code",
   "execution_count": null,
   "id": "fcae05b9",
   "metadata": {},
   "outputs": [],
   "source": [
    "df.to_csv(\"result/data_text_cleaning.csv\", sep=',', index=False)"
   ]
  },
  {
   "cell_type": "code",
   "execution_count": null,
   "id": "033cca88",
   "metadata": {},
   "outputs": [],
   "source": []
  },
  {
   "cell_type": "code",
   "execution_count": 376,
   "id": "7e3511c6",
   "metadata": {},
   "outputs": [
    {
     "data": {
      "text/plain": [
       "'PILKADA 2018 DAMAI PELAJAR SMA KEC BILAH HILIR DEKLARASI ANTI HOAX &amp;'"
      ]
     },
     "execution_count": 376,
     "metadata": {},
     "output_type": "execute_result"
    }
   ],
   "source": [
    "text = \"PILKADA 2018 DAMAI PELAJAR SMA KEC BILAH HILIR DEKLARASI ANTI HOAX &amp;\"\n",
    "\n",
    "data = ' '.join([word for word in text.split()])\n",
    "data"
   ]
  },
  {
   "cell_type": "code",
   "execution_count": null,
   "id": "9b64c137",
   "metadata": {},
   "outputs": [],
   "source": []
  },
  {
   "cell_type": "code",
   "execution_count": null,
   "id": "e0d2e283",
   "metadata": {},
   "outputs": [],
   "source": []
  },
  {
   "cell_type": "code",
   "execution_count": null,
   "id": "b12ab3b0",
   "metadata": {},
   "outputs": [],
   "source": []
  },
  {
   "cell_type": "code",
   "execution_count": null,
   "id": "7d68df69",
   "metadata": {},
   "outputs": [],
   "source": []
  },
  {
   "cell_type": "code",
   "execution_count": 384,
   "id": "271bd40a",
   "metadata": {},
   "outputs": [
    {
     "ename": "AttributeError",
     "evalue": "'Num2Word_ID' object has no attribute 'str_to_number'",
     "output_type": "error",
     "traceback": [
      "\u001b[1;31m---------------------------------------------------------------------------\u001b[0m",
      "\u001b[1;31mAttributeError\u001b[0m                            Traceback (most recent call last)",
      "Input \u001b[1;32mIn [384]\u001b[0m, in \u001b[0;36m<cell line: 2>\u001b[1;34m()\u001b[0m\n\u001b[0;32m      1\u001b[0m text \u001b[38;5;241m=\u001b[39m \u001b[38;5;124m'\u001b[39m\u001b[38;5;124m0,39\u001b[39m\u001b[38;5;124m'\u001b[39m\n\u001b[1;32m----> 2\u001b[0m \u001b[43mnum2words\u001b[49m\u001b[43m(\u001b[49m\u001b[43m(\u001b[49m\u001b[43mtext\u001b[49m\u001b[43m)\u001b[49m\u001b[43m,\u001b[49m\u001b[43m \u001b[49m\u001b[43mlang\u001b[49m\u001b[38;5;241;43m=\u001b[39;49m\u001b[38;5;124;43m'\u001b[39;49m\u001b[38;5;124;43mid\u001b[39;49m\u001b[38;5;124;43m'\u001b[39;49m\u001b[43m)\u001b[49m\n",
      "File \u001b[1;32m~\\miniconda3\\envs\\level-gold\\lib\\site-packages\\num2words\\__init__.py:89\u001b[0m, in \u001b[0;36mnum2words\u001b[1;34m(number, ordinal, lang, to, **kwargs)\u001b[0m\n\u001b[0;32m     86\u001b[0m converter \u001b[38;5;241m=\u001b[39m CONVERTER_CLASSES[lang]\n\u001b[0;32m     88\u001b[0m \u001b[38;5;28;01mif\u001b[39;00m \u001b[38;5;28misinstance\u001b[39m(number, \u001b[38;5;28mstr\u001b[39m):\n\u001b[1;32m---> 89\u001b[0m     number \u001b[38;5;241m=\u001b[39m \u001b[43mconverter\u001b[49m\u001b[38;5;241;43m.\u001b[39;49m\u001b[43mstr_to_number\u001b[49m(number)\n\u001b[0;32m     91\u001b[0m \u001b[38;5;66;03m# backwards compatible\u001b[39;00m\n\u001b[0;32m     92\u001b[0m \u001b[38;5;28;01mif\u001b[39;00m ordinal:\n",
      "\u001b[1;31mAttributeError\u001b[0m: 'Num2Word_ID' object has no attribute 'str_to_number'"
     ]
    }
   ],
   "source": [
    "text = '0,39'\n",
    "num2words((text), lang='id')"
   ]
  },
  {
   "cell_type": "code",
   "execution_count": 153,
   "id": "25650ca4",
   "metadata": {},
   "outputs": [
    {
     "data": {
      "text/plain": [
       "'  \\nIg'"
      ]
     },
     "execution_count": 153,
     "metadata": {},
     "output_type": "execute_result"
    }
   ],
   "source": [
    "text = '+62823-9111-5459 +6289637850869 +6281294490616\\nIg'\n",
    "\n",
    "text = re.sub(r'\\+62\\d{2,}', '', text) #remove phone number +6282xxxxxxxxx\n",
    "text = re.sub('[\\+\\d{5}\\-\\d{4}\\-\\d{4}]', '', text) #remove phone number +628xx-xxxx-xxxx\n",
    "text"
   ]
  },
  {
   "cell_type": "code",
   "execution_count": 96,
   "id": "4f54b0ec",
   "metadata": {},
   "outputs": [
    {
     "data": {
      "text/plain": [
       "\"USER Hati hati bisu :( .g\\\\n\\\\nlagi bosan huft \\\\xf0\\\\x9f\\\\x98\\\\xaa'\""
      ]
     },
     "execution_count": 96,
     "metadata": {},
     "output_type": "execute_result"
    }
   ],
   "source": [
    "df['Tweet'].loc[13166]"
   ]
  },
  {
   "cell_type": "code",
   "execution_count": 248,
   "id": "da01b890",
   "metadata": {},
   "outputs": [
    {
     "data": {
      "text/plain": [
       "'USER Hati hati ?? bisu :( .g\\n lagi bosan huft \\\\xf0\\\\x9f\\\\x98\\\\xaa !!!  ð\\x9f¤£ð\\x9f¤£ð\\x9f¤£ð\\x9f\\x92¦ð\\x9f\\x92¦'"
      ]
     },
     "execution_count": 248,
     "metadata": {},
     "output_type": "execute_result"
    }
   ],
   "source": [
    "text = 'USER Hati hati ?? bisu :( .g\\n\\\\nlagi bosan huft \\\\xf0\\\\x9f\\\\x98\\\\xaa !!!  \\xf0\\x9f\\xa4\\xa3\\xf0\\x9f\\xa4\\xa3\\xf0\\x9f\\xa4\\xa3\\xf0\\x9f\\x92\\xa6\\xf0\\x9f\\x92\\xa6'\n",
    "text = re.sub('\\\\+', ' ', text)\n",
    "# menghilangkan simbol \"\\\\n\"\n",
    "text = re.sub(r'\\\\n',\" \",text)\n",
    "# text = re.sub('[%s]' % re.escape(string.punctuation), '', text)\n",
    "text"
   ]
  },
  {
   "cell_type": "code",
   "execution_count": 249,
   "id": "896dbc06",
   "metadata": {},
   "outputs": [
    {
     "data": {
      "text/plain": [
       "'USER Hati hati ?? bisu :( .g  lagi bosan huft \\\\xf0\\\\x9f\\\\x98\\\\xaa !!!  ð\\x9f¤£ð\\x9f¤£ð\\x9f¤£ð\\x9f\\x92¦ð\\x9f\\x92¦'"
      ]
     },
     "execution_count": 249,
     "metadata": {},
     "output_type": "execute_result"
    }
   ],
   "source": [
    "# menghilangkan simbol enter \"\\n\"\n",
    "text = re.sub('\\n', ' ', text)\n",
    "text"
   ]
  },
  {
   "cell_type": "code",
   "execution_count": 251,
   "id": "d09a9baf",
   "metadata": {},
   "outputs": [
    {
     "data": {
      "text/plain": [
       "'USER Hati hati ?? bisu :( .g  lagi bosan huft \\\\xf0\\\\x9f\\\\x98\\\\xaa !!!  ð\\x9f¤£ð\\x9f¤£ð\\x9f¤£ð\\x9f\\x92¦ð\\x9f\\x92¦'"
      ]
     },
     "execution_count": 251,
     "metadata": {},
     "output_type": "execute_result"
    }
   ],
   "source": [
    "# menghilangkan simbol emoji\n",
    "text = re.sub('\\\\x.{2}', ' ', text)\n",
    "text"
   ]
  },
  {
   "cell_type": "code",
   "execution_count": 70,
   "id": "5240d7a1",
   "metadata": {},
   "outputs": [
    {
     "data": {
      "text/plain": [
       "'USER Hati hati ?? bisu :( .g lagi bosan huft !!!'"
      ]
     },
     "execution_count": 70,
     "metadata": {},
     "output_type": "execute_result"
    }
   ],
   "source": [
    "text = re.sub('  +', ' ', text) # Remove extra spaces\n",
    "text"
   ]
  },
  {
   "cell_type": "code",
   "execution_count": 73,
   "id": "9f0c1a0f",
   "metadata": {},
   "outputs": [
    {
     "data": {
      "text/plain": [
       "'USER Hati hati  bisu  g\\n lagi bosan huft xf0x9fx98xaa '"
      ]
     },
     "execution_count": 73,
     "metadata": {},
     "output_type": "execute_result"
    }
   ],
   "source": [
    "text = re.sub('[%s]' % re.escape(string.punctuation), '', text)  \n",
    "text"
   ]
  },
  {
   "cell_type": "code",
   "execution_count": 91,
   "id": "96ef6f73",
   "metadata": {},
   "outputs": [
    {
     "data": {
      "text/plain": [
       "''"
      ]
     },
     "execution_count": 91,
     "metadata": {},
     "output_type": "execute_result"
    }
   ],
   "source": [
    "\n",
    "data = '213131123.def.jhi.klm'\n",
    "data = re.sub('\\w{3,}.?', '', data)\n",
    "data"
   ]
  },
  {
   "cell_type": "code",
   "execution_count": 97,
   "id": "bdd979a7",
   "metadata": {},
   "outputs": [],
   "source": [
    "n = 22"
   ]
  },
  {
   "cell_type": "code",
   "execution_count": 98,
   "id": "c0acd60c",
   "metadata": {},
   "outputs": [
    {
     "name": "stdout",
     "output_type": "stream",
     "text": [
      "Not Weird\n"
     ]
    }
   ],
   "source": [
    "if n%2 == 0:\n",
    "        if n in range (2,6):\n",
    "            print(\"Not Weird\")\n",
    "        if n in range (6, 21):\n",
    "            print(\"Weird\")\n",
    "        if n > 20 :\n",
    "            print(\"Not Weird\")\n",
    "else :\n",
    "    print(\"Weird\")\n",
    "        "
   ]
  },
  {
   "cell_type": "code",
   "execution_count": 100,
   "id": "8f05cf0c",
   "metadata": {},
   "outputs": [
    {
     "data": {
      "text/plain": [
       "range(1, 20)"
      ]
     },
     "execution_count": 100,
     "metadata": {},
     "output_type": "execute_result"
    }
   ],
   "source": [
    "print(a+b)\n",
    "print(a-b)\n",
    "print(a*b)\n"
   ]
  },
  {
   "cell_type": "code",
   "execution_count": 110,
   "id": "dc521534",
   "metadata": {},
   "outputs": [
    {
     "name": "stdout",
     "output_type": "stream",
     "text": [
      "012"
     ]
    }
   ],
   "source": [
    "n = 3\n",
    "for n in range(n):\n",
    "    print(n, end='')"
   ]
  },
  {
   "cell_type": "code",
   "execution_count": null,
   "id": "b26cf992",
   "metadata": {},
   "outputs": [],
   "source": [
    "text = input()\n",
    "\n",
    "re.sub(r'&&', 'and', text)\n",
    "re.sub(r'||', 'or', text)"
   ]
  },
  {
   "cell_type": "code",
   "execution_count": null,
   "id": "32b79544",
   "metadata": {},
   "outputs": [],
   "source": []
  },
  {
   "cell_type": "code",
   "execution_count": 104,
   "id": "3676e6ef",
   "metadata": {},
   "outputs": [
    {
     "data": {
      "text/plain": [
       "'rt Pendukung berarti dia bagian rt dr penista agama tersebut!!! Dukung gerakan ini rt'"
      ]
     },
     "execution_count": 104,
     "metadata": {},
     "output_type": "execute_result"
    }
   ],
   "source": [
    "text = '  rt Pendukung berarti dia bagian rt dr penista agama tersebut!!! Dukung gerakan ini rt   '\n",
    "text = text.rstrip().lstrip()\n",
    "text"
   ]
  },
  {
   "cell_type": "code",
   "execution_count": 405,
   "id": "e9325ae5",
   "metadata": {},
   "outputs": [
    {
     "data": {
      "text/plain": [
       "'rt Pendukung berarti dia bagian  dr penista agama tersebut!!! Dukung gerakan ini '"
      ]
     },
     "execution_count": 405,
     "metadata": {},
     "output_type": "execute_result"
    }
   ],
   "source": [
    "text = 'rt Pendukung berarti dia bagian rt dr penista agama tersebut!!! Dukung gerakan ini rt'\n",
    "text = re.sub(' rt', ' ', text)\n",
    "text"
   ]
  },
  {
   "cell_type": "code",
   "execution_count": 58,
   "id": "ffb4e3fb",
   "metadata": {},
   "outputs": [
    {
     "data": {
      "text/plain": [
       "'RT USER: USER siapa yang telat ngasih tau elu?'"
      ]
     },
     "execution_count": 58,
     "metadata": {},
     "output_type": "execute_result"
    }
   ],
   "source": [
    "text = \"RT USER: USER siapa yang telat ngasih tau elu?\"\n",
    "\n",
    "text = text.split()\n",
    "text = ' '.join([x for x in text])\n",
    "text"
   ]
  },
  {
   "cell_type": "code",
   "execution_count": null,
   "id": "8686cb8c",
   "metadata": {},
   "outputs": [],
   "source": [
    "import sqlite3\n",
    "\n",
    "conn = sqlite3.connect('data/binar_data_science.db')"
   ]
  }
 ],
 "metadata": {
  "kernelspec": {
   "display_name": "Python 3 (ipykernel)",
   "language": "python",
   "name": "python3"
  },
  "language_info": {
   "codemirror_mode": {
    "name": "ipython",
    "version": 3
   },
   "file_extension": ".py",
   "mimetype": "text/x-python",
   "name": "python",
   "nbconvert_exporter": "python",
   "pygments_lexer": "ipython3",
   "version": "3.8.16"
  }
 },
 "nbformat": 4,
 "nbformat_minor": 5
}
